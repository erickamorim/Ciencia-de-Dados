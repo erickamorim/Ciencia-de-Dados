{
 "cells": [
  {
   "cell_type": "markdown",
   "metadata": {},
   "source": [
    "# Desafio do Acelera Data Science "
   ]
  },
  {
   "cell_type": "markdown",
   "metadata": {},
   "source": [
    "**Autor: Erick Amorim**"
   ]
  },
  {
   "cell_type": "markdown",
   "metadata": {},
   "source": [
    "**Criando um modelo de aprendizagem de máquina para prever a nota de matemática de quem participou do ENEM 2016**.\n",
    "\n",
    "O objetivo do desafio é avaliar a sua capacidade de resolver problemas, então ele pode ser resolvido em qualquer linguagem de programação.\n",
    "\n",
    "*Aqui irei adotar a **linguagem R** por ser a minha favorita*."
   ]
  },
  {
   "cell_type": "markdown",
   "metadata": {},
   "source": [
    "## Manipulação e Exploração dos Dados "
   ]
  },
  {
   "cell_type": "markdown",
   "metadata": {},
   "source": [
    "***Pacotes ou Bibliotecas usadas neste desafio.***"
   ]
  },
  {
   "cell_type": "code",
   "execution_count": 1,
   "metadata": {},
   "outputs": [
    {
     "name": "stderr",
     "output_type": "stream",
     "text": [
      "randomForest 4.6-14\n",
      "Type rfNews() to see new features/changes/bug fixes.\n"
     ]
    }
   ],
   "source": [
    "library(randomForest)"
   ]
  },
  {
   "cell_type": "markdown",
   "metadata": {},
   "source": [
    "***Fazendo a leitura das bases de dados.***"
   ]
  },
  {
   "cell_type": "code",
   "execution_count": 2,
   "metadata": {},
   "outputs": [],
   "source": [
    "baseTreino = read.csv('train.csv')\n",
    "baseTeste = read.csv('test.csv')"
   ]
  },
  {
   "cell_type": "markdown",
   "metadata": {},
   "source": [
    "***Observando os primeiro registros da base de treino.***"
   ]
  },
  {
   "cell_type": "code",
   "execution_count": 3,
   "metadata": {
    "scrolled": false
   },
   "outputs": [
    {
     "data": {
      "text/html": [
       "<table>\n",
       "<thead><tr><th scope=col>X</th><th scope=col>NU_INSCRICAO</th><th scope=col>NU_ANO</th><th scope=col>CO_MUNICIPIO_RESIDENCIA</th><th scope=col>NO_MUNICIPIO_RESIDENCIA</th><th scope=col>CO_UF_RESIDENCIA</th><th scope=col>SG_UF_RESIDENCIA</th><th scope=col>NU_IDADE</th><th scope=col>TP_SEXO</th><th scope=col>TP_ESTADO_CIVIL</th><th scope=col>...</th><th scope=col>Q041</th><th scope=col>Q042</th><th scope=col>Q043</th><th scope=col>Q044</th><th scope=col>Q045</th><th scope=col>Q046</th><th scope=col>Q047</th><th scope=col>Q048</th><th scope=col>Q049</th><th scope=col>Q050</th></tr></thead>\n",
       "<tbody>\n",
       "\t<tr><td>1                                       </td><td>ed50e8aaa58e7a806c337585efee9ca41f1eb1ad</td><td>2016                                    </td><td>4314902                                 </td><td>Porto Alegre                            </td><td>43                                      </td><td>RS                                      </td><td>24                                      </td><td>M                                       </td><td>0                                       </td><td>...                                     </td><td> 5                                      </td><td>A                                       </td><td>A                                       </td><td>A                                       </td><td>A                                       </td><td>A                                       </td><td>A                                       </td><td>A                                       </td><td>B                                       </td><td>D                                       </td></tr>\n",
       "\t<tr><td>2                                       </td><td>2c3acac4b33ec2b195d77e7c04a2d75727fad723</td><td>2016                                    </td><td>2304707                                 </td><td>Granja                                  </td><td>23                                      </td><td>CE                                      </td><td>17                                      </td><td>F                                       </td><td>0                                       </td><td>...                                     </td><td>NA                                      </td><td>A                                       </td><td>A                                       </td><td>C                                       </td><td>A                                       </td><td>B                                       </td><td>A                                       </td><td>A                                       </td><td>C                                       </td><td>A                                       </td></tr>\n",
       "\t<tr><td>3                                       </td><td>f4545f8ccb9ff5c8aad7d32951b3f251a26e6568</td><td>2016                                    </td><td>2304400                                 </td><td>Fortaleza                               </td><td>23                                      </td><td>CE                                      </td><td>21                                      </td><td>F                                       </td><td>0                                       </td><td>...                                     </td><td>NA                                      </td><td>A                                       </td><td>A                                       </td><td>A                                       </td><td>A                                       </td><td>C                                       </td><td>A                                       </td><td>A                                       </td><td>B                                       </td><td>A                                       </td></tr>\n",
       "\t<tr><td>4                                       </td><td>3d6ec248fef899c414e77f82d5c6d2bffbeaf7fe</td><td>2016                                    </td><td>3304557                                 </td><td>Rio de Janeiro                          </td><td>33                                      </td><td>RJ                                      </td><td>25                                      </td><td>F                                       </td><td>0                                       </td><td>...                                     </td><td> 5                                      </td><td>C                                       </td><td>A                                       </td><td>A                                       </td><td>A                                       </td><td>A                                       </td><td>D                                       </td><td>A                                       </td><td>A                                       </td><td>A                                       </td></tr>\n",
       "\t<tr><td>5                                       </td><td>bf896ac8d3ecadd6dba1dfbf50110afcbf5d3268</td><td>2016                                    </td><td>1302603                                 </td><td>Manaus                                  </td><td>13                                      </td><td>AM                                      </td><td>28                                      </td><td>M                                       </td><td>0                                       </td><td>...                                     </td><td>NA                                      </td><td>A                                       </td><td>A                                       </td><td>A                                       </td><td>A                                       </td><td>A                                       </td><td>A                                       </td><td>A                                       </td><td>A                                       </td><td>A                                       </td></tr>\n",
       "\t<tr><td>6                                       </td><td>a37c99ec251d4f6e8ddbeabadf1c87fdbfddc4d1</td><td>2016                                    </td><td>2902005                                 </td><td>Aracatu                                 </td><td>29                                      </td><td>BA                                      </td><td>18                                      </td><td>F                                       </td><td>0                                       </td><td>...                                     </td><td>NA                                      </td><td>A                                       </td><td>A                                       </td><td>A                                       </td><td>A                                       </td><td>A                                       </td><td>A                                       </td><td>A                                       </td><td>A                                       </td><td>A                                       </td></tr>\n",
       "</tbody>\n",
       "</table>\n"
      ],
      "text/latex": [
       "\\begin{tabular}{r|lllllllllllllllllllllllllllllllllllllllllllllllllllllllllllllllllllllllllllllllllllllllllllllllllllllllllllllllllllllllllllllllllllllllllllllllllllllllllllllllllllllll}\n",
       " X & NU\\_INSCRICAO & NU\\_ANO & CO\\_MUNICIPIO\\_RESIDENCIA & NO\\_MUNICIPIO\\_RESIDENCIA & CO\\_UF\\_RESIDENCIA & SG\\_UF\\_RESIDENCIA & NU\\_IDADE & TP\\_SEXO & TP\\_ESTADO\\_CIVIL & ... & Q041 & Q042 & Q043 & Q044 & Q045 & Q046 & Q047 & Q048 & Q049 & Q050\\\\\n",
       "\\hline\n",
       "\t 1                                        & ed50e8aaa58e7a806c337585efee9ca41f1eb1ad & 2016                                     & 4314902                                  & Porto Alegre                             & 43                                       & RS                                       & 24                                       & M                                        & 0                                        & ...                                      &  5                                       & A                                        & A                                        & A                                        & A                                        & A                                        & A                                        & A                                        & B                                        & D                                       \\\\\n",
       "\t 2                                        & 2c3acac4b33ec2b195d77e7c04a2d75727fad723 & 2016                                     & 2304707                                  & Granja                                   & 23                                       & CE                                       & 17                                       & F                                        & 0                                        & ...                                      & NA                                       & A                                        & A                                        & C                                        & A                                        & B                                        & A                                        & A                                        & C                                        & A                                       \\\\\n",
       "\t 3                                        & f4545f8ccb9ff5c8aad7d32951b3f251a26e6568 & 2016                                     & 2304400                                  & Fortaleza                                & 23                                       & CE                                       & 21                                       & F                                        & 0                                        & ...                                      & NA                                       & A                                        & A                                        & A                                        & A                                        & C                                        & A                                        & A                                        & B                                        & A                                       \\\\\n",
       "\t 4                                        & 3d6ec248fef899c414e77f82d5c6d2bffbeaf7fe & 2016                                     & 3304557                                  & Rio de Janeiro                           & 33                                       & RJ                                       & 25                                       & F                                        & 0                                        & ...                                      &  5                                       & C                                        & A                                        & A                                        & A                                        & A                                        & D                                        & A                                        & A                                        & A                                       \\\\\n",
       "\t 5                                        & bf896ac8d3ecadd6dba1dfbf50110afcbf5d3268 & 2016                                     & 1302603                                  & Manaus                                   & 13                                       & AM                                       & 28                                       & M                                        & 0                                        & ...                                      & NA                                       & A                                        & A                                        & A                                        & A                                        & A                                        & A                                        & A                                        & A                                        & A                                       \\\\\n",
       "\t 6                                        & a37c99ec251d4f6e8ddbeabadf1c87fdbfddc4d1 & 2016                                     & 2902005                                  & Aracatu                                  & 29                                       & BA                                       & 18                                       & F                                        & 0                                        & ...                                      & NA                                       & A                                        & A                                        & A                                        & A                                        & A                                        & A                                        & A                                        & A                                        & A                                       \\\\\n",
       "\\end{tabular}\n"
      ],
      "text/markdown": [
       "\n",
       "| X | NU_INSCRICAO | NU_ANO | CO_MUNICIPIO_RESIDENCIA | NO_MUNICIPIO_RESIDENCIA | CO_UF_RESIDENCIA | SG_UF_RESIDENCIA | NU_IDADE | TP_SEXO | TP_ESTADO_CIVIL | ... | Q041 | Q042 | Q043 | Q044 | Q045 | Q046 | Q047 | Q048 | Q049 | Q050 |\n",
       "|---|---|---|---|---|---|---|---|---|---|---|---|---|---|---|---|---|---|---|---|---|\n",
       "| 1                                        | ed50e8aaa58e7a806c337585efee9ca41f1eb1ad | 2016                                     | 4314902                                  | Porto Alegre                             | 43                                       | RS                                       | 24                                       | M                                        | 0                                        | ...                                      |  5                                       | A                                        | A                                        | A                                        | A                                        | A                                        | A                                        | A                                        | B                                        | D                                        |\n",
       "| 2                                        | 2c3acac4b33ec2b195d77e7c04a2d75727fad723 | 2016                                     | 2304707                                  | Granja                                   | 23                                       | CE                                       | 17                                       | F                                        | 0                                        | ...                                      | NA                                       | A                                        | A                                        | C                                        | A                                        | B                                        | A                                        | A                                        | C                                        | A                                        |\n",
       "| 3                                        | f4545f8ccb9ff5c8aad7d32951b3f251a26e6568 | 2016                                     | 2304400                                  | Fortaleza                                | 23                                       | CE                                       | 21                                       | F                                        | 0                                        | ...                                      | NA                                       | A                                        | A                                        | A                                        | A                                        | C                                        | A                                        | A                                        | B                                        | A                                        |\n",
       "| 4                                        | 3d6ec248fef899c414e77f82d5c6d2bffbeaf7fe | 2016                                     | 3304557                                  | Rio de Janeiro                           | 33                                       | RJ                                       | 25                                       | F                                        | 0                                        | ...                                      |  5                                       | C                                        | A                                        | A                                        | A                                        | A                                        | D                                        | A                                        | A                                        | A                                        |\n",
       "| 5                                        | bf896ac8d3ecadd6dba1dfbf50110afcbf5d3268 | 2016                                     | 1302603                                  | Manaus                                   | 13                                       | AM                                       | 28                                       | M                                        | 0                                        | ...                                      | NA                                       | A                                        | A                                        | A                                        | A                                        | A                                        | A                                        | A                                        | A                                        | A                                        |\n",
       "| 6                                        | a37c99ec251d4f6e8ddbeabadf1c87fdbfddc4d1 | 2016                                     | 2902005                                  | Aracatu                                  | 29                                       | BA                                       | 18                                       | F                                        | 0                                        | ...                                      | NA                                       | A                                        | A                                        | A                                        | A                                        | A                                        | A                                        | A                                        | A                                        | A                                        |\n",
       "\n"
      ],
      "text/plain": [
       "  X NU_INSCRICAO                             NU_ANO CO_MUNICIPIO_RESIDENCIA\n",
       "1 1 ed50e8aaa58e7a806c337585efee9ca41f1eb1ad 2016   4314902                \n",
       "2 2 2c3acac4b33ec2b195d77e7c04a2d75727fad723 2016   2304707                \n",
       "3 3 f4545f8ccb9ff5c8aad7d32951b3f251a26e6568 2016   2304400                \n",
       "4 4 3d6ec248fef899c414e77f82d5c6d2bffbeaf7fe 2016   3304557                \n",
       "5 5 bf896ac8d3ecadd6dba1dfbf50110afcbf5d3268 2016   1302603                \n",
       "6 6 a37c99ec251d4f6e8ddbeabadf1c87fdbfddc4d1 2016   2902005                \n",
       "  NO_MUNICIPIO_RESIDENCIA CO_UF_RESIDENCIA SG_UF_RESIDENCIA NU_IDADE TP_SEXO\n",
       "1 Porto Alegre            43               RS               24       M      \n",
       "2 Granja                  23               CE               17       F      \n",
       "3 Fortaleza               23               CE               21       F      \n",
       "4 Rio de Janeiro          33               RJ               25       F      \n",
       "5 Manaus                  13               AM               28       M      \n",
       "6 Aracatu                 29               BA               18       F      \n",
       "  TP_ESTADO_CIVIL ... Q041 Q042 Q043 Q044 Q045 Q046 Q047 Q048 Q049 Q050\n",
       "1 0               ...  5   A    A    A    A    A    A    A    B    D   \n",
       "2 0               ... NA   A    A    C    A    B    A    A    C    A   \n",
       "3 0               ... NA   A    A    A    A    C    A    A    B    A   \n",
       "4 0               ...  5   C    A    A    A    A    D    A    A    A   \n",
       "5 0               ... NA   A    A    A    A    A    A    A    A    A   \n",
       "6 0               ... NA   A    A    A    A    A    A    A    A    A   "
      ]
     },
     "metadata": {},
     "output_type": "display_data"
    }
   ],
   "source": [
    "head(baseTreino)"
   ]
  },
  {
   "cell_type": "markdown",
   "metadata": {},
   "source": [
    "***Observando os primeiro registros da base de teste***"
   ]
  },
  {
   "cell_type": "code",
   "execution_count": 4,
   "metadata": {},
   "outputs": [
    {
     "data": {
      "text/html": [
       "<table>\n",
       "<thead><tr><th scope=col>NU_INSCRICAO</th><th scope=col>CO_UF_RESIDENCIA</th><th scope=col>SG_UF_RESIDENCIA</th><th scope=col>NU_IDADE</th><th scope=col>TP_SEXO</th><th scope=col>TP_COR_RACA</th><th scope=col>TP_NACIONALIDADE</th><th scope=col>TP_ST_CONCLUSAO</th><th scope=col>TP_ANO_CONCLUIU</th><th scope=col>TP_ESCOLA</th><th scope=col>...</th><th scope=col>NU_NOTA_COMP5</th><th scope=col>NU_NOTA_REDACAO</th><th scope=col>Q001</th><th scope=col>Q002</th><th scope=col>Q006</th><th scope=col>Q024</th><th scope=col>Q025</th><th scope=col>Q026</th><th scope=col>Q027</th><th scope=col>Q047</th></tr></thead>\n",
       "<tbody>\n",
       "\t<tr><td>73ff9fcc02f0a99919906c942c2e1a1042cdcf98</td><td>41                                      </td><td>PR                                      </td><td>22                                      </td><td>F                                       </td><td>3                                       </td><td>1                                       </td><td>1                                       </td><td>5                                       </td><td>1                                       </td><td>...                                     </td><td> 40                                     </td><td>420                                     </td><td>B                                       </td><td>A                                       </td><td>C                                       </td><td>A                                       </td><td>A                                       </td><td>C                                       </td><td>C                                       </td><td>A                                       </td></tr>\n",
       "\t<tr><td>71a95f9f1b91a82c65ad94abbdf9f54e6066f968</td><td>21                                      </td><td>MA                                      </td><td>26                                      </td><td>F                                       </td><td>3                                       </td><td>1                                       </td><td>1                                       </td><td>8                                       </td><td>1                                       </td><td>...                                     </td><td>100                                     </td><td>580                                     </td><td>E                                       </td><td>B                                       </td><td>C                                       </td><td>B                                       </td><td>B                                       </td><td>B                                       </td><td>F                                       </td><td>A                                       </td></tr>\n",
       "\t<tr><td>b38a03232f43b11c9d0788abaf060f7366053b6d</td><td>23                                      </td><td>CE                                      </td><td>21                                      </td><td>M                                       </td><td>1                                       </td><td>1                                       </td><td>2                                       </td><td>0                                       </td><td>2                                       </td><td>...                                     </td><td> 80                                     </td><td>320                                     </td><td>E                                       </td><td>E                                       </td><td>D                                       </td><td>B                                       </td><td>B                                       </td><td>A                                       </td><td>                                        </td><td>A                                       </td></tr>\n",
       "\t<tr><td>70b682d9a3636be23f6120fa9d6b164eb3c6002d</td><td>15                                      </td><td>PA                                      </td><td>27                                      </td><td>F                                       </td><td>3                                       </td><td>1                                       </td><td>1                                       </td><td>8                                       </td><td>1                                       </td><td>...                                     </td><td> NA                                     </td><td> NA                                     </td><td>H                                       </td><td>E                                       </td><td>G                                       </td><td>B                                       </td><td>B                                       </td><td>A                                       </td><td>                                        </td><td>A                                       </td></tr>\n",
       "\t<tr><td>715494628a50142ce8cb17191cfe6d0f3cae0934</td><td>41                                      </td><td>PR                                      </td><td>18                                      </td><td>M                                       </td><td>1                                       </td><td>1                                       </td><td>2                                       </td><td>0                                       </td><td>2                                       </td><td>...                                     </td><td>  0                                     </td><td>320                                     </td><td>D                                       </td><td>H                                       </td><td>H                                       </td><td>C                                       </td><td>B                                       </td><td>A                                       </td><td>                                        </td><td>A                                       </td></tr>\n",
       "\t<tr><td>e656d6bad65c93fb2880f1eba5037008c8e75774</td><td>43                                      </td><td>RS                                      </td><td>18                                      </td><td>M                                       </td><td>3                                       </td><td>1                                       </td><td>1                                       </td><td>1                                       </td><td>1                                       </td><td>...                                     </td><td> 80                                     </td><td>560                                     </td><td>E                                       </td><td>E                                       </td><td>C                                       </td><td>B                                       </td><td>B                                       </td><td>A                                       </td><td>                                        </td><td>A                                       </td></tr>\n",
       "</tbody>\n",
       "</table>\n"
      ],
      "text/latex": [
       "\\begin{tabular}{r|lllllllllllllllllllllllllllllllllllllllllllllll}\n",
       " NU\\_INSCRICAO & CO\\_UF\\_RESIDENCIA & SG\\_UF\\_RESIDENCIA & NU\\_IDADE & TP\\_SEXO & TP\\_COR\\_RACA & TP\\_NACIONALIDADE & TP\\_ST\\_CONCLUSAO & TP\\_ANO\\_CONCLUIU & TP\\_ESCOLA & ... & NU\\_NOTA\\_COMP5 & NU\\_NOTA\\_REDACAO & Q001 & Q002 & Q006 & Q024 & Q025 & Q026 & Q027 & Q047\\\\\n",
       "\\hline\n",
       "\t 73ff9fcc02f0a99919906c942c2e1a1042cdcf98 & 41                                       & PR                                       & 22                                       & F                                        & 3                                        & 1                                        & 1                                        & 5                                        & 1                                        & ...                                      &  40                                      & 420                                      & B                                        & A                                        & C                                        & A                                        & A                                        & C                                        & C                                        & A                                       \\\\\n",
       "\t 71a95f9f1b91a82c65ad94abbdf9f54e6066f968 & 21                                       & MA                                       & 26                                       & F                                        & 3                                        & 1                                        & 1                                        & 8                                        & 1                                        & ...                                      & 100                                      & 580                                      & E                                        & B                                        & C                                        & B                                        & B                                        & B                                        & F                                        & A                                       \\\\\n",
       "\t b38a03232f43b11c9d0788abaf060f7366053b6d & 23                                       & CE                                       & 21                                       & M                                        & 1                                        & 1                                        & 2                                        & 0                                        & 2                                        & ...                                      &  80                                      & 320                                      & E                                        & E                                        & D                                        & B                                        & B                                        & A                                        &                                          & A                                       \\\\\n",
       "\t 70b682d9a3636be23f6120fa9d6b164eb3c6002d & 15                                       & PA                                       & 27                                       & F                                        & 3                                        & 1                                        & 1                                        & 8                                        & 1                                        & ...                                      &  NA                                      &  NA                                      & H                                        & E                                        & G                                        & B                                        & B                                        & A                                        &                                          & A                                       \\\\\n",
       "\t 715494628a50142ce8cb17191cfe6d0f3cae0934 & 41                                       & PR                                       & 18                                       & M                                        & 1                                        & 1                                        & 2                                        & 0                                        & 2                                        & ...                                      &   0                                      & 320                                      & D                                        & H                                        & H                                        & C                                        & B                                        & A                                        &                                          & A                                       \\\\\n",
       "\t e656d6bad65c93fb2880f1eba5037008c8e75774 & 43                                       & RS                                       & 18                                       & M                                        & 3                                        & 1                                        & 1                                        & 1                                        & 1                                        & ...                                      &  80                                      & 560                                      & E                                        & E                                        & C                                        & B                                        & B                                        & A                                        &                                          & A                                       \\\\\n",
       "\\end{tabular}\n"
      ],
      "text/markdown": [
       "\n",
       "| NU_INSCRICAO | CO_UF_RESIDENCIA | SG_UF_RESIDENCIA | NU_IDADE | TP_SEXO | TP_COR_RACA | TP_NACIONALIDADE | TP_ST_CONCLUSAO | TP_ANO_CONCLUIU | TP_ESCOLA | ... | NU_NOTA_COMP5 | NU_NOTA_REDACAO | Q001 | Q002 | Q006 | Q024 | Q025 | Q026 | Q027 | Q047 |\n",
       "|---|---|---|---|---|---|---|---|---|---|---|---|---|---|---|---|---|---|---|---|---|\n",
       "| 73ff9fcc02f0a99919906c942c2e1a1042cdcf98 | 41                                       | PR                                       | 22                                       | F                                        | 3                                        | 1                                        | 1                                        | 5                                        | 1                                        | ...                                      |  40                                      | 420                                      | B                                        | A                                        | C                                        | A                                        | A                                        | C                                        | C                                        | A                                        |\n",
       "| 71a95f9f1b91a82c65ad94abbdf9f54e6066f968 | 21                                       | MA                                       | 26                                       | F                                        | 3                                        | 1                                        | 1                                        | 8                                        | 1                                        | ...                                      | 100                                      | 580                                      | E                                        | B                                        | C                                        | B                                        | B                                        | B                                        | F                                        | A                                        |\n",
       "| b38a03232f43b11c9d0788abaf060f7366053b6d | 23                                       | CE                                       | 21                                       | M                                        | 1                                        | 1                                        | 2                                        | 0                                        | 2                                        | ...                                      |  80                                      | 320                                      | E                                        | E                                        | D                                        | B                                        | B                                        | A                                        |                                          | A                                        |\n",
       "| 70b682d9a3636be23f6120fa9d6b164eb3c6002d | 15                                       | PA                                       | 27                                       | F                                        | 3                                        | 1                                        | 1                                        | 8                                        | 1                                        | ...                                      |  NA                                      |  NA                                      | H                                        | E                                        | G                                        | B                                        | B                                        | A                                        |                                          | A                                        |\n",
       "| 715494628a50142ce8cb17191cfe6d0f3cae0934 | 41                                       | PR                                       | 18                                       | M                                        | 1                                        | 1                                        | 2                                        | 0                                        | 2                                        | ...                                      |   0                                      | 320                                      | D                                        | H                                        | H                                        | C                                        | B                                        | A                                        |                                          | A                                        |\n",
       "| e656d6bad65c93fb2880f1eba5037008c8e75774 | 43                                       | RS                                       | 18                                       | M                                        | 3                                        | 1                                        | 1                                        | 1                                        | 1                                        | ...                                      |  80                                      | 560                                      | E                                        | E                                        | C                                        | B                                        | B                                        | A                                        |                                          | A                                        |\n",
       "\n"
      ],
      "text/plain": [
       "  NU_INSCRICAO                             CO_UF_RESIDENCIA SG_UF_RESIDENCIA\n",
       "1 73ff9fcc02f0a99919906c942c2e1a1042cdcf98 41               PR              \n",
       "2 71a95f9f1b91a82c65ad94abbdf9f54e6066f968 21               MA              \n",
       "3 b38a03232f43b11c9d0788abaf060f7366053b6d 23               CE              \n",
       "4 70b682d9a3636be23f6120fa9d6b164eb3c6002d 15               PA              \n",
       "5 715494628a50142ce8cb17191cfe6d0f3cae0934 41               PR              \n",
       "6 e656d6bad65c93fb2880f1eba5037008c8e75774 43               RS              \n",
       "  NU_IDADE TP_SEXO TP_COR_RACA TP_NACIONALIDADE TP_ST_CONCLUSAO TP_ANO_CONCLUIU\n",
       "1 22       F       3           1                1               5              \n",
       "2 26       F       3           1                1               8              \n",
       "3 21       M       1           1                2               0              \n",
       "4 27       F       3           1                1               8              \n",
       "5 18       M       1           1                2               0              \n",
       "6 18       M       3           1                1               1              \n",
       "  TP_ESCOLA ... NU_NOTA_COMP5 NU_NOTA_REDACAO Q001 Q002 Q006 Q024 Q025 Q026\n",
       "1 1         ...  40           420             B    A    C    A    A    C   \n",
       "2 1         ... 100           580             E    B    C    B    B    B   \n",
       "3 2         ...  80           320             E    E    D    B    B    A   \n",
       "4 1         ...  NA            NA             H    E    G    B    B    A   \n",
       "5 2         ...   0           320             D    H    H    C    B    A   \n",
       "6 1         ...  80           560             E    E    C    B    B    A   \n",
       "  Q027 Q047\n",
       "1 C    A   \n",
       "2 F    A   \n",
       "3      A   \n",
       "4      A   \n",
       "5      A   \n",
       "6      A   "
      ]
     },
     "metadata": {},
     "output_type": "display_data"
    }
   ],
   "source": [
    "head(baseTeste)"
   ]
  },
  {
   "cell_type": "markdown",
   "metadata": {},
   "source": [
    "***Verificando o numero de registros (linhas) e variáveis (colunas) da base de treino e teste.***\n",
    "\n",
    "*Veja que existem mais variáveis na base de teste (47 variáveis) do que na base de treino.*"
   ]
  },
  {
   "cell_type": "code",
   "execution_count": 5,
   "metadata": {},
   "outputs": [
    {
     "data": {
      "text/html": [
       "<ol class=list-inline>\n",
       "\t<li>13730</li>\n",
       "\t<li>167</li>\n",
       "</ol>\n"
      ],
      "text/latex": [
       "\\begin{enumerate*}\n",
       "\\item 13730\n",
       "\\item 167\n",
       "\\end{enumerate*}\n"
      ],
      "text/markdown": [
       "1. 13730\n",
       "2. 167\n",
       "\n",
       "\n"
      ],
      "text/plain": [
       "[1] 13730   167"
      ]
     },
     "metadata": {},
     "output_type": "display_data"
    },
    {
     "data": {
      "text/html": [
       "<ol class=list-inline>\n",
       "\t<li>4576</li>\n",
       "\t<li>47</li>\n",
       "</ol>\n"
      ],
      "text/latex": [
       "\\begin{enumerate*}\n",
       "\\item 4576\n",
       "\\item 47\n",
       "\\end{enumerate*}\n"
      ],
      "text/markdown": [
       "1. 4576\n",
       "2. 47\n",
       "\n",
       "\n"
      ],
      "text/plain": [
       "[1] 4576   47"
      ]
     },
     "metadata": {},
     "output_type": "display_data"
    }
   ],
   "source": [
    "dim(baseTreino)\n",
    "dim(baseTeste)"
   ]
  },
  {
   "cell_type": "markdown",
   "metadata": {},
   "source": [
    "***Verificando quais variáveis estão na base de teste.***"
   ]
  },
  {
   "cell_type": "code",
   "execution_count": 6,
   "metadata": {},
   "outputs": [
    {
     "data": {
      "text/html": [
       "<ol class=list-inline>\n",
       "\t<li>'NU_INSCRICAO'</li>\n",
       "\t<li>'CO_UF_RESIDENCIA'</li>\n",
       "\t<li>'SG_UF_RESIDENCIA'</li>\n",
       "\t<li>'NU_IDADE'</li>\n",
       "\t<li>'TP_SEXO'</li>\n",
       "\t<li>'TP_COR_RACA'</li>\n",
       "\t<li>'TP_NACIONALIDADE'</li>\n",
       "\t<li>'TP_ST_CONCLUSAO'</li>\n",
       "\t<li>'TP_ANO_CONCLUIU'</li>\n",
       "\t<li>'TP_ESCOLA'</li>\n",
       "\t<li>'TP_ENSINO'</li>\n",
       "\t<li>'IN_TREINEIRO'</li>\n",
       "\t<li>'TP_DEPENDENCIA_ADM_ESC'</li>\n",
       "\t<li>'IN_BAIXA_VISAO'</li>\n",
       "\t<li>'IN_CEGUEIRA'</li>\n",
       "\t<li>'IN_SURDEZ'</li>\n",
       "\t<li>'IN_DISLEXIA'</li>\n",
       "\t<li>'IN_DISCALCULIA'</li>\n",
       "\t<li>'IN_SABATISTA'</li>\n",
       "\t<li>'IN_GESTANTE'</li>\n",
       "\t<li>'IN_IDOSO'</li>\n",
       "\t<li>'TP_PRESENCA_CN'</li>\n",
       "\t<li>'TP_PRESENCA_CH'</li>\n",
       "\t<li>'TP_PRESENCA_LC'</li>\n",
       "\t<li>'CO_PROVA_CN'</li>\n",
       "\t<li>'CO_PROVA_CH'</li>\n",
       "\t<li>'CO_PROVA_LC'</li>\n",
       "\t<li>'CO_PROVA_MT'</li>\n",
       "\t<li>'NU_NOTA_CN'</li>\n",
       "\t<li>'NU_NOTA_CH'</li>\n",
       "\t<li>'NU_NOTA_LC'</li>\n",
       "\t<li>'TP_LINGUA'</li>\n",
       "\t<li>'TP_STATUS_REDACAO'</li>\n",
       "\t<li>'NU_NOTA_COMP1'</li>\n",
       "\t<li>'NU_NOTA_COMP2'</li>\n",
       "\t<li>'NU_NOTA_COMP3'</li>\n",
       "\t<li>'NU_NOTA_COMP4'</li>\n",
       "\t<li>'NU_NOTA_COMP5'</li>\n",
       "\t<li>'NU_NOTA_REDACAO'</li>\n",
       "\t<li>'Q001'</li>\n",
       "\t<li>'Q002'</li>\n",
       "\t<li>'Q006'</li>\n",
       "\t<li>'Q024'</li>\n",
       "\t<li>'Q025'</li>\n",
       "\t<li>'Q026'</li>\n",
       "\t<li>'Q027'</li>\n",
       "\t<li>'Q047'</li>\n",
       "</ol>\n"
      ],
      "text/latex": [
       "\\begin{enumerate*}\n",
       "\\item 'NU\\_INSCRICAO'\n",
       "\\item 'CO\\_UF\\_RESIDENCIA'\n",
       "\\item 'SG\\_UF\\_RESIDENCIA'\n",
       "\\item 'NU\\_IDADE'\n",
       "\\item 'TP\\_SEXO'\n",
       "\\item 'TP\\_COR\\_RACA'\n",
       "\\item 'TP\\_NACIONALIDADE'\n",
       "\\item 'TP\\_ST\\_CONCLUSAO'\n",
       "\\item 'TP\\_ANO\\_CONCLUIU'\n",
       "\\item 'TP\\_ESCOLA'\n",
       "\\item 'TP\\_ENSINO'\n",
       "\\item 'IN\\_TREINEIRO'\n",
       "\\item 'TP\\_DEPENDENCIA\\_ADM\\_ESC'\n",
       "\\item 'IN\\_BAIXA\\_VISAO'\n",
       "\\item 'IN\\_CEGUEIRA'\n",
       "\\item 'IN\\_SURDEZ'\n",
       "\\item 'IN\\_DISLEXIA'\n",
       "\\item 'IN\\_DISCALCULIA'\n",
       "\\item 'IN\\_SABATISTA'\n",
       "\\item 'IN\\_GESTANTE'\n",
       "\\item 'IN\\_IDOSO'\n",
       "\\item 'TP\\_PRESENCA\\_CN'\n",
       "\\item 'TP\\_PRESENCA\\_CH'\n",
       "\\item 'TP\\_PRESENCA\\_LC'\n",
       "\\item 'CO\\_PROVA\\_CN'\n",
       "\\item 'CO\\_PROVA\\_CH'\n",
       "\\item 'CO\\_PROVA\\_LC'\n",
       "\\item 'CO\\_PROVA\\_MT'\n",
       "\\item 'NU\\_NOTA\\_CN'\n",
       "\\item 'NU\\_NOTA\\_CH'\n",
       "\\item 'NU\\_NOTA\\_LC'\n",
       "\\item 'TP\\_LINGUA'\n",
       "\\item 'TP\\_STATUS\\_REDACAO'\n",
       "\\item 'NU\\_NOTA\\_COMP1'\n",
       "\\item 'NU\\_NOTA\\_COMP2'\n",
       "\\item 'NU\\_NOTA\\_COMP3'\n",
       "\\item 'NU\\_NOTA\\_COMP4'\n",
       "\\item 'NU\\_NOTA\\_COMP5'\n",
       "\\item 'NU\\_NOTA\\_REDACAO'\n",
       "\\item 'Q001'\n",
       "\\item 'Q002'\n",
       "\\item 'Q006'\n",
       "\\item 'Q024'\n",
       "\\item 'Q025'\n",
       "\\item 'Q026'\n",
       "\\item 'Q027'\n",
       "\\item 'Q047'\n",
       "\\end{enumerate*}\n"
      ],
      "text/markdown": [
       "1. 'NU_INSCRICAO'\n",
       "2. 'CO_UF_RESIDENCIA'\n",
       "3. 'SG_UF_RESIDENCIA'\n",
       "4. 'NU_IDADE'\n",
       "5. 'TP_SEXO'\n",
       "6. 'TP_COR_RACA'\n",
       "7. 'TP_NACIONALIDADE'\n",
       "8. 'TP_ST_CONCLUSAO'\n",
       "9. 'TP_ANO_CONCLUIU'\n",
       "10. 'TP_ESCOLA'\n",
       "11. 'TP_ENSINO'\n",
       "12. 'IN_TREINEIRO'\n",
       "13. 'TP_DEPENDENCIA_ADM_ESC'\n",
       "14. 'IN_BAIXA_VISAO'\n",
       "15. 'IN_CEGUEIRA'\n",
       "16. 'IN_SURDEZ'\n",
       "17. 'IN_DISLEXIA'\n",
       "18. 'IN_DISCALCULIA'\n",
       "19. 'IN_SABATISTA'\n",
       "20. 'IN_GESTANTE'\n",
       "21. 'IN_IDOSO'\n",
       "22. 'TP_PRESENCA_CN'\n",
       "23. 'TP_PRESENCA_CH'\n",
       "24. 'TP_PRESENCA_LC'\n",
       "25. 'CO_PROVA_CN'\n",
       "26. 'CO_PROVA_CH'\n",
       "27. 'CO_PROVA_LC'\n",
       "28. 'CO_PROVA_MT'\n",
       "29. 'NU_NOTA_CN'\n",
       "30. 'NU_NOTA_CH'\n",
       "31. 'NU_NOTA_LC'\n",
       "32. 'TP_LINGUA'\n",
       "33. 'TP_STATUS_REDACAO'\n",
       "34. 'NU_NOTA_COMP1'\n",
       "35. 'NU_NOTA_COMP2'\n",
       "36. 'NU_NOTA_COMP3'\n",
       "37. 'NU_NOTA_COMP4'\n",
       "38. 'NU_NOTA_COMP5'\n",
       "39. 'NU_NOTA_REDACAO'\n",
       "40. 'Q001'\n",
       "41. 'Q002'\n",
       "42. 'Q006'\n",
       "43. 'Q024'\n",
       "44. 'Q025'\n",
       "45. 'Q026'\n",
       "46. 'Q027'\n",
       "47. 'Q047'\n",
       "\n",
       "\n"
      ],
      "text/plain": [
       " [1] \"NU_INSCRICAO\"           \"CO_UF_RESIDENCIA\"       \"SG_UF_RESIDENCIA\"      \n",
       " [4] \"NU_IDADE\"               \"TP_SEXO\"                \"TP_COR_RACA\"           \n",
       " [7] \"TP_NACIONALIDADE\"       \"TP_ST_CONCLUSAO\"        \"TP_ANO_CONCLUIU\"       \n",
       "[10] \"TP_ESCOLA\"              \"TP_ENSINO\"              \"IN_TREINEIRO\"          \n",
       "[13] \"TP_DEPENDENCIA_ADM_ESC\" \"IN_BAIXA_VISAO\"         \"IN_CEGUEIRA\"           \n",
       "[16] \"IN_SURDEZ\"              \"IN_DISLEXIA\"            \"IN_DISCALCULIA\"        \n",
       "[19] \"IN_SABATISTA\"           \"IN_GESTANTE\"            \"IN_IDOSO\"              \n",
       "[22] \"TP_PRESENCA_CN\"         \"TP_PRESENCA_CH\"         \"TP_PRESENCA_LC\"        \n",
       "[25] \"CO_PROVA_CN\"            \"CO_PROVA_CH\"            \"CO_PROVA_LC\"           \n",
       "[28] \"CO_PROVA_MT\"            \"NU_NOTA_CN\"             \"NU_NOTA_CH\"            \n",
       "[31] \"NU_NOTA_LC\"             \"TP_LINGUA\"              \"TP_STATUS_REDACAO\"     \n",
       "[34] \"NU_NOTA_COMP1\"          \"NU_NOTA_COMP2\"          \"NU_NOTA_COMP3\"         \n",
       "[37] \"NU_NOTA_COMP4\"          \"NU_NOTA_COMP5\"          \"NU_NOTA_REDACAO\"       \n",
       "[40] \"Q001\"                   \"Q002\"                   \"Q006\"                  \n",
       "[43] \"Q024\"                   \"Q025\"                   \"Q026\"                  \n",
       "[46] \"Q027\"                   \"Q047\"                  "
      ]
     },
     "metadata": {},
     "output_type": "display_data"
    }
   ],
   "source": [
    "names(baseTeste)"
   ]
  },
  {
   "cell_type": "markdown",
   "metadata": {},
   "source": [
    "***Vamos utilizar as variáveis que estão da base de teste para fazer nossas previsões, então teremos que ter estas mesmas variáveis na nossa base de treinamento.***\n",
    "\n",
    "_O comando a abaixo cria uma nova base de treino chamada **base** com as mesmas variáveis da **baseTreino.**_"
   ]
  },
  {
   "cell_type": "code",
   "execution_count": 7,
   "metadata": {},
   "outputs": [
    {
     "data": {
      "text/html": [
       "<ol class=list-inline>\n",
       "\t<li>13730</li>\n",
       "\t<li>47</li>\n",
       "</ol>\n"
      ],
      "text/latex": [
       "\\begin{enumerate*}\n",
       "\\item 13730\n",
       "\\item 47\n",
       "\\end{enumerate*}\n"
      ],
      "text/markdown": [
       "1. 13730\n",
       "2. 47\n",
       "\n",
       "\n"
      ],
      "text/plain": [
       "[1] 13730    47"
      ]
     },
     "metadata": {},
     "output_type": "display_data"
    }
   ],
   "source": [
    "base=baseTreino[names(baseTeste)]\n",
    "dim(base)"
   ]
  },
  {
   "cell_type": "markdown",
   "metadata": {},
   "source": [
    "_Precisamos acrecentar a **base** mais uma coluna que contém as notas de matemática (nossa *variável resposta*)._"
   ]
  },
  {
   "cell_type": "code",
   "execution_count": 8,
   "metadata": {},
   "outputs": [
    {
     "data": {
      "text/html": [
       "<ol class=list-inline>\n",
       "\t<li>'NU_INSCRICAO'</li>\n",
       "\t<li>'CO_UF_RESIDENCIA'</li>\n",
       "\t<li>'SG_UF_RESIDENCIA'</li>\n",
       "\t<li>'NU_IDADE'</li>\n",
       "\t<li>'TP_SEXO'</li>\n",
       "\t<li>'TP_COR_RACA'</li>\n",
       "\t<li>'TP_NACIONALIDADE'</li>\n",
       "\t<li>'TP_ST_CONCLUSAO'</li>\n",
       "\t<li>'TP_ANO_CONCLUIU'</li>\n",
       "\t<li>'TP_ESCOLA'</li>\n",
       "\t<li>'TP_ENSINO'</li>\n",
       "\t<li>'IN_TREINEIRO'</li>\n",
       "\t<li>'TP_DEPENDENCIA_ADM_ESC'</li>\n",
       "\t<li>'IN_BAIXA_VISAO'</li>\n",
       "\t<li>'IN_CEGUEIRA'</li>\n",
       "\t<li>'IN_SURDEZ'</li>\n",
       "\t<li>'IN_DISLEXIA'</li>\n",
       "\t<li>'IN_DISCALCULIA'</li>\n",
       "\t<li>'IN_SABATISTA'</li>\n",
       "\t<li>'IN_GESTANTE'</li>\n",
       "\t<li>'IN_IDOSO'</li>\n",
       "\t<li>'TP_PRESENCA_CN'</li>\n",
       "\t<li>'TP_PRESENCA_CH'</li>\n",
       "\t<li>'TP_PRESENCA_LC'</li>\n",
       "\t<li>'CO_PROVA_CN'</li>\n",
       "\t<li>'CO_PROVA_CH'</li>\n",
       "\t<li>'CO_PROVA_LC'</li>\n",
       "\t<li>'CO_PROVA_MT'</li>\n",
       "\t<li>'NU_NOTA_CN'</li>\n",
       "\t<li>'NU_NOTA_CH'</li>\n",
       "\t<li>'NU_NOTA_LC'</li>\n",
       "\t<li>'TP_LINGUA'</li>\n",
       "\t<li>'TP_STATUS_REDACAO'</li>\n",
       "\t<li>'NU_NOTA_COMP1'</li>\n",
       "\t<li>'NU_NOTA_COMP2'</li>\n",
       "\t<li>'NU_NOTA_COMP3'</li>\n",
       "\t<li>'NU_NOTA_COMP4'</li>\n",
       "\t<li>'NU_NOTA_COMP5'</li>\n",
       "\t<li>'NU_NOTA_REDACAO'</li>\n",
       "\t<li>'Q001'</li>\n",
       "\t<li>'Q002'</li>\n",
       "\t<li>'Q006'</li>\n",
       "\t<li>'Q024'</li>\n",
       "\t<li>'Q025'</li>\n",
       "\t<li>'Q026'</li>\n",
       "\t<li>'Q027'</li>\n",
       "\t<li>'Q047'</li>\n",
       "\t<li>'baseTreino[, \"NU_NOTA_MT\"]'</li>\n",
       "</ol>\n"
      ],
      "text/latex": [
       "\\begin{enumerate*}\n",
       "\\item 'NU\\_INSCRICAO'\n",
       "\\item 'CO\\_UF\\_RESIDENCIA'\n",
       "\\item 'SG\\_UF\\_RESIDENCIA'\n",
       "\\item 'NU\\_IDADE'\n",
       "\\item 'TP\\_SEXO'\n",
       "\\item 'TP\\_COR\\_RACA'\n",
       "\\item 'TP\\_NACIONALIDADE'\n",
       "\\item 'TP\\_ST\\_CONCLUSAO'\n",
       "\\item 'TP\\_ANO\\_CONCLUIU'\n",
       "\\item 'TP\\_ESCOLA'\n",
       "\\item 'TP\\_ENSINO'\n",
       "\\item 'IN\\_TREINEIRO'\n",
       "\\item 'TP\\_DEPENDENCIA\\_ADM\\_ESC'\n",
       "\\item 'IN\\_BAIXA\\_VISAO'\n",
       "\\item 'IN\\_CEGUEIRA'\n",
       "\\item 'IN\\_SURDEZ'\n",
       "\\item 'IN\\_DISLEXIA'\n",
       "\\item 'IN\\_DISCALCULIA'\n",
       "\\item 'IN\\_SABATISTA'\n",
       "\\item 'IN\\_GESTANTE'\n",
       "\\item 'IN\\_IDOSO'\n",
       "\\item 'TP\\_PRESENCA\\_CN'\n",
       "\\item 'TP\\_PRESENCA\\_CH'\n",
       "\\item 'TP\\_PRESENCA\\_LC'\n",
       "\\item 'CO\\_PROVA\\_CN'\n",
       "\\item 'CO\\_PROVA\\_CH'\n",
       "\\item 'CO\\_PROVA\\_LC'\n",
       "\\item 'CO\\_PROVA\\_MT'\n",
       "\\item 'NU\\_NOTA\\_CN'\n",
       "\\item 'NU\\_NOTA\\_CH'\n",
       "\\item 'NU\\_NOTA\\_LC'\n",
       "\\item 'TP\\_LINGUA'\n",
       "\\item 'TP\\_STATUS\\_REDACAO'\n",
       "\\item 'NU\\_NOTA\\_COMP1'\n",
       "\\item 'NU\\_NOTA\\_COMP2'\n",
       "\\item 'NU\\_NOTA\\_COMP3'\n",
       "\\item 'NU\\_NOTA\\_COMP4'\n",
       "\\item 'NU\\_NOTA\\_COMP5'\n",
       "\\item 'NU\\_NOTA\\_REDACAO'\n",
       "\\item 'Q001'\n",
       "\\item 'Q002'\n",
       "\\item 'Q006'\n",
       "\\item 'Q024'\n",
       "\\item 'Q025'\n",
       "\\item 'Q026'\n",
       "\\item 'Q027'\n",
       "\\item 'Q047'\n",
       "\\item 'baseTreino{[}, \"NU\\_NOTA\\_MT\"{]}'\n",
       "\\end{enumerate*}\n"
      ],
      "text/markdown": [
       "1. 'NU_INSCRICAO'\n",
       "2. 'CO_UF_RESIDENCIA'\n",
       "3. 'SG_UF_RESIDENCIA'\n",
       "4. 'NU_IDADE'\n",
       "5. 'TP_SEXO'\n",
       "6. 'TP_COR_RACA'\n",
       "7. 'TP_NACIONALIDADE'\n",
       "8. 'TP_ST_CONCLUSAO'\n",
       "9. 'TP_ANO_CONCLUIU'\n",
       "10. 'TP_ESCOLA'\n",
       "11. 'TP_ENSINO'\n",
       "12. 'IN_TREINEIRO'\n",
       "13. 'TP_DEPENDENCIA_ADM_ESC'\n",
       "14. 'IN_BAIXA_VISAO'\n",
       "15. 'IN_CEGUEIRA'\n",
       "16. 'IN_SURDEZ'\n",
       "17. 'IN_DISLEXIA'\n",
       "18. 'IN_DISCALCULIA'\n",
       "19. 'IN_SABATISTA'\n",
       "20. 'IN_GESTANTE'\n",
       "21. 'IN_IDOSO'\n",
       "22. 'TP_PRESENCA_CN'\n",
       "23. 'TP_PRESENCA_CH'\n",
       "24. 'TP_PRESENCA_LC'\n",
       "25. 'CO_PROVA_CN'\n",
       "26. 'CO_PROVA_CH'\n",
       "27. 'CO_PROVA_LC'\n",
       "28. 'CO_PROVA_MT'\n",
       "29. 'NU_NOTA_CN'\n",
       "30. 'NU_NOTA_CH'\n",
       "31. 'NU_NOTA_LC'\n",
       "32. 'TP_LINGUA'\n",
       "33. 'TP_STATUS_REDACAO'\n",
       "34. 'NU_NOTA_COMP1'\n",
       "35. 'NU_NOTA_COMP2'\n",
       "36. 'NU_NOTA_COMP3'\n",
       "37. 'NU_NOTA_COMP4'\n",
       "38. 'NU_NOTA_COMP5'\n",
       "39. 'NU_NOTA_REDACAO'\n",
       "40. 'Q001'\n",
       "41. 'Q002'\n",
       "42. 'Q006'\n",
       "43. 'Q024'\n",
       "44. 'Q025'\n",
       "45. 'Q026'\n",
       "46. 'Q027'\n",
       "47. 'Q047'\n",
       "48. 'baseTreino[, \"NU_NOTA_MT\"]'\n",
       "\n",
       "\n"
      ],
      "text/plain": [
       " [1] \"NU_INSCRICAO\"                 \"CO_UF_RESIDENCIA\"            \n",
       " [3] \"SG_UF_RESIDENCIA\"             \"NU_IDADE\"                    \n",
       " [5] \"TP_SEXO\"                      \"TP_COR_RACA\"                 \n",
       " [7] \"TP_NACIONALIDADE\"             \"TP_ST_CONCLUSAO\"             \n",
       " [9] \"TP_ANO_CONCLUIU\"              \"TP_ESCOLA\"                   \n",
       "[11] \"TP_ENSINO\"                    \"IN_TREINEIRO\"                \n",
       "[13] \"TP_DEPENDENCIA_ADM_ESC\"       \"IN_BAIXA_VISAO\"              \n",
       "[15] \"IN_CEGUEIRA\"                  \"IN_SURDEZ\"                   \n",
       "[17] \"IN_DISLEXIA\"                  \"IN_DISCALCULIA\"              \n",
       "[19] \"IN_SABATISTA\"                 \"IN_GESTANTE\"                 \n",
       "[21] \"IN_IDOSO\"                     \"TP_PRESENCA_CN\"              \n",
       "[23] \"TP_PRESENCA_CH\"               \"TP_PRESENCA_LC\"              \n",
       "[25] \"CO_PROVA_CN\"                  \"CO_PROVA_CH\"                 \n",
       "[27] \"CO_PROVA_LC\"                  \"CO_PROVA_MT\"                 \n",
       "[29] \"NU_NOTA_CN\"                   \"NU_NOTA_CH\"                  \n",
       "[31] \"NU_NOTA_LC\"                   \"TP_LINGUA\"                   \n",
       "[33] \"TP_STATUS_REDACAO\"            \"NU_NOTA_COMP1\"               \n",
       "[35] \"NU_NOTA_COMP2\"                \"NU_NOTA_COMP3\"               \n",
       "[37] \"NU_NOTA_COMP4\"                \"NU_NOTA_COMP5\"               \n",
       "[39] \"NU_NOTA_REDACAO\"              \"Q001\"                        \n",
       "[41] \"Q002\"                         \"Q006\"                        \n",
       "[43] \"Q024\"                         \"Q025\"                        \n",
       "[45] \"Q026\"                         \"Q027\"                        \n",
       "[47] \"Q047\"                         \"baseTreino[, \\\"NU_NOTA_MT\\\"]\""
      ]
     },
     "metadata": {},
     "output_type": "display_data"
    }
   ],
   "source": [
    "base =  cbind(base,baseTreino[,\"NU_NOTA_MT\"]) \n",
    "names(base)"
   ]
  },
  {
   "cell_type": "markdown",
   "metadata": {},
   "source": [
    "_O comando abaixo troca o nome da última coluna (variável resposta) chamada de **baseTreino\\[,\"NU_NOTA_MT\"\\]** para **NU_NOTA_MT**_"
   ]
  },
  {
   "cell_type": "code",
   "execution_count": 9,
   "metadata": {},
   "outputs": [],
   "source": [
    "names(base)[ncol(base)] = \"NU_NOTA_MT\""
   ]
  },
  {
   "cell_type": "markdown",
   "metadata": {},
   "source": [
    "***Verificando quantos valores faltantes NA (missing value) existem na variável resposta.***"
   ]
  },
  {
   "cell_type": "code",
   "execution_count": 10,
   "metadata": {},
   "outputs": [
    {
     "data": {
      "text/html": [
       "3597"
      ],
      "text/latex": [
       "3597"
      ],
      "text/markdown": [
       "3597"
      ],
      "text/plain": [
       "[1] 3597"
      ]
     },
     "metadata": {},
     "output_type": "display_data"
    }
   ],
   "source": [
    "sum(is.na(base$NU_NOTA_MT))"
   ]
  },
  {
   "cell_type": "markdown",
   "metadata": {},
   "source": [
    "***Removendo os registros (linhas) em que a variável resposta (última coluna) apresenta um valor faltante.***"
   ]
  },
  {
   "cell_type": "code",
   "execution_count": 11,
   "metadata": {},
   "outputs": [
    {
     "data": {
      "text/html": [
       "<ol class=list-inline>\n",
       "\t<li>13730</li>\n",
       "\t<li>48</li>\n",
       "</ol>\n"
      ],
      "text/latex": [
       "\\begin{enumerate*}\n",
       "\\item 13730\n",
       "\\item 48\n",
       "\\end{enumerate*}\n"
      ],
      "text/markdown": [
       "1. 13730\n",
       "2. 48\n",
       "\n",
       "\n"
      ],
      "text/plain": [
       "[1] 13730    48"
      ]
     },
     "metadata": {},
     "output_type": "display_data"
    },
    {
     "data": {
      "text/html": [
       "<ol class=list-inline>\n",
       "\t<li>10133</li>\n",
       "\t<li>48</li>\n",
       "</ol>\n"
      ],
      "text/latex": [
       "\\begin{enumerate*}\n",
       "\\item 10133\n",
       "\\item 48\n",
       "\\end{enumerate*}\n"
      ],
      "text/markdown": [
       "1. 10133\n",
       "2. 48\n",
       "\n",
       "\n"
      ],
      "text/plain": [
       "[1] 10133    48"
      ]
     },
     "metadata": {},
     "output_type": "display_data"
    }
   ],
   "source": [
    "dim(base)\n",
    "\n",
    "base = base[!is.na(base$NU_NOTA_MT), ]\n",
    "\n",
    "dim(base)"
   ]
  },
  {
   "cell_type": "markdown",
   "metadata": {},
   "source": [
    "*Verificando na **base** a quantidade de valores faltantes das demais variáveis*.\n",
    "\n",
    "O comando abaixo apresenta a quantidade de NA's em ordem decrescente. Veja que temos 4 apenas variáveis com quantidades de valores faltantes."
   ]
  },
  {
   "cell_type": "code",
   "execution_count": 12,
   "metadata": {},
   "outputs": [
    {
     "data": {
      "text/html": [
       "<dl class=dl-horizontal>\n",
       "\t<dt>TP_ENSINO</dt>\n",
       "\t\t<dd>6494</dd>\n",
       "\t<dt>TP_DEPENDENCIA_ADM_ESC</dt>\n",
       "\t\t<dd>6494</dd>\n",
       "\t<dt>NU_NOTA_CN</dt>\n",
       "\t\t<dd>36</dd>\n",
       "\t<dt>NU_NOTA_CH</dt>\n",
       "\t\t<dd>36</dd>\n",
       "\t<dt>NU_INSCRICAO</dt>\n",
       "\t\t<dd>0</dd>\n",
       "\t<dt>CO_UF_RESIDENCIA</dt>\n",
       "\t\t<dd>0</dd>\n",
       "\t<dt>SG_UF_RESIDENCIA</dt>\n",
       "\t\t<dd>0</dd>\n",
       "\t<dt>NU_IDADE</dt>\n",
       "\t\t<dd>0</dd>\n",
       "\t<dt>TP_SEXO</dt>\n",
       "\t\t<dd>0</dd>\n",
       "\t<dt>TP_COR_RACA</dt>\n",
       "\t\t<dd>0</dd>\n",
       "\t<dt>TP_NACIONALIDADE</dt>\n",
       "\t\t<dd>0</dd>\n",
       "\t<dt>TP_ST_CONCLUSAO</dt>\n",
       "\t\t<dd>0</dd>\n",
       "\t<dt>TP_ANO_CONCLUIU</dt>\n",
       "\t\t<dd>0</dd>\n",
       "\t<dt>TP_ESCOLA</dt>\n",
       "\t\t<dd>0</dd>\n",
       "\t<dt>IN_TREINEIRO</dt>\n",
       "\t\t<dd>0</dd>\n",
       "\t<dt>IN_BAIXA_VISAO</dt>\n",
       "\t\t<dd>0</dd>\n",
       "\t<dt>IN_CEGUEIRA</dt>\n",
       "\t\t<dd>0</dd>\n",
       "\t<dt>IN_SURDEZ</dt>\n",
       "\t\t<dd>0</dd>\n",
       "\t<dt>IN_DISLEXIA</dt>\n",
       "\t\t<dd>0</dd>\n",
       "\t<dt>IN_DISCALCULIA</dt>\n",
       "\t\t<dd>0</dd>\n",
       "\t<dt>IN_SABATISTA</dt>\n",
       "\t\t<dd>0</dd>\n",
       "\t<dt>IN_GESTANTE</dt>\n",
       "\t\t<dd>0</dd>\n",
       "\t<dt>IN_IDOSO</dt>\n",
       "\t\t<dd>0</dd>\n",
       "\t<dt>TP_PRESENCA_CN</dt>\n",
       "\t\t<dd>0</dd>\n",
       "\t<dt>TP_PRESENCA_CH</dt>\n",
       "\t\t<dd>0</dd>\n",
       "\t<dt>TP_PRESENCA_LC</dt>\n",
       "\t\t<dd>0</dd>\n",
       "\t<dt>CO_PROVA_CN</dt>\n",
       "\t\t<dd>0</dd>\n",
       "\t<dt>CO_PROVA_CH</dt>\n",
       "\t\t<dd>0</dd>\n",
       "\t<dt>CO_PROVA_LC</dt>\n",
       "\t\t<dd>0</dd>\n",
       "\t<dt>CO_PROVA_MT</dt>\n",
       "\t\t<dd>0</dd>\n",
       "\t<dt>NU_NOTA_LC</dt>\n",
       "\t\t<dd>0</dd>\n",
       "\t<dt>TP_LINGUA</dt>\n",
       "\t\t<dd>0</dd>\n",
       "\t<dt>TP_STATUS_REDACAO</dt>\n",
       "\t\t<dd>0</dd>\n",
       "\t<dt>NU_NOTA_COMP1</dt>\n",
       "\t\t<dd>0</dd>\n",
       "\t<dt>NU_NOTA_COMP2</dt>\n",
       "\t\t<dd>0</dd>\n",
       "\t<dt>NU_NOTA_COMP3</dt>\n",
       "\t\t<dd>0</dd>\n",
       "\t<dt>NU_NOTA_COMP4</dt>\n",
       "\t\t<dd>0</dd>\n",
       "\t<dt>NU_NOTA_COMP5</dt>\n",
       "\t\t<dd>0</dd>\n",
       "\t<dt>NU_NOTA_REDACAO</dt>\n",
       "\t\t<dd>0</dd>\n",
       "\t<dt>Q001</dt>\n",
       "\t\t<dd>0</dd>\n",
       "\t<dt>Q002</dt>\n",
       "\t\t<dd>0</dd>\n",
       "\t<dt>Q006</dt>\n",
       "\t\t<dd>0</dd>\n",
       "\t<dt>Q024</dt>\n",
       "\t\t<dd>0</dd>\n",
       "\t<dt>Q025</dt>\n",
       "\t\t<dd>0</dd>\n",
       "\t<dt>Q026</dt>\n",
       "\t\t<dd>0</dd>\n",
       "\t<dt>Q027</dt>\n",
       "\t\t<dd>0</dd>\n",
       "\t<dt>Q047</dt>\n",
       "\t\t<dd>0</dd>\n",
       "\t<dt>NU_NOTA_MT</dt>\n",
       "\t\t<dd>0</dd>\n",
       "</dl>\n"
      ],
      "text/latex": [
       "\\begin{description*}\n",
       "\\item[TP\\textbackslash{}\\_ENSINO] 6494\n",
       "\\item[TP\\textbackslash{}\\_DEPENDENCIA\\textbackslash{}\\_ADM\\textbackslash{}\\_ESC] 6494\n",
       "\\item[NU\\textbackslash{}\\_NOTA\\textbackslash{}\\_CN] 36\n",
       "\\item[NU\\textbackslash{}\\_NOTA\\textbackslash{}\\_CH] 36\n",
       "\\item[NU\\textbackslash{}\\_INSCRICAO] 0\n",
       "\\item[CO\\textbackslash{}\\_UF\\textbackslash{}\\_RESIDENCIA] 0\n",
       "\\item[SG\\textbackslash{}\\_UF\\textbackslash{}\\_RESIDENCIA] 0\n",
       "\\item[NU\\textbackslash{}\\_IDADE] 0\n",
       "\\item[TP\\textbackslash{}\\_SEXO] 0\n",
       "\\item[TP\\textbackslash{}\\_COR\\textbackslash{}\\_RACA] 0\n",
       "\\item[TP\\textbackslash{}\\_NACIONALIDADE] 0\n",
       "\\item[TP\\textbackslash{}\\_ST\\textbackslash{}\\_CONCLUSAO] 0\n",
       "\\item[TP\\textbackslash{}\\_ANO\\textbackslash{}\\_CONCLUIU] 0\n",
       "\\item[TP\\textbackslash{}\\_ESCOLA] 0\n",
       "\\item[IN\\textbackslash{}\\_TREINEIRO] 0\n",
       "\\item[IN\\textbackslash{}\\_BAIXA\\textbackslash{}\\_VISAO] 0\n",
       "\\item[IN\\textbackslash{}\\_CEGUEIRA] 0\n",
       "\\item[IN\\textbackslash{}\\_SURDEZ] 0\n",
       "\\item[IN\\textbackslash{}\\_DISLEXIA] 0\n",
       "\\item[IN\\textbackslash{}\\_DISCALCULIA] 0\n",
       "\\item[IN\\textbackslash{}\\_SABATISTA] 0\n",
       "\\item[IN\\textbackslash{}\\_GESTANTE] 0\n",
       "\\item[IN\\textbackslash{}\\_IDOSO] 0\n",
       "\\item[TP\\textbackslash{}\\_PRESENCA\\textbackslash{}\\_CN] 0\n",
       "\\item[TP\\textbackslash{}\\_PRESENCA\\textbackslash{}\\_CH] 0\n",
       "\\item[TP\\textbackslash{}\\_PRESENCA\\textbackslash{}\\_LC] 0\n",
       "\\item[CO\\textbackslash{}\\_PROVA\\textbackslash{}\\_CN] 0\n",
       "\\item[CO\\textbackslash{}\\_PROVA\\textbackslash{}\\_CH] 0\n",
       "\\item[CO\\textbackslash{}\\_PROVA\\textbackslash{}\\_LC] 0\n",
       "\\item[CO\\textbackslash{}\\_PROVA\\textbackslash{}\\_MT] 0\n",
       "\\item[NU\\textbackslash{}\\_NOTA\\textbackslash{}\\_LC] 0\n",
       "\\item[TP\\textbackslash{}\\_LINGUA] 0\n",
       "\\item[TP\\textbackslash{}\\_STATUS\\textbackslash{}\\_REDACAO] 0\n",
       "\\item[NU\\textbackslash{}\\_NOTA\\textbackslash{}\\_COMP1] 0\n",
       "\\item[NU\\textbackslash{}\\_NOTA\\textbackslash{}\\_COMP2] 0\n",
       "\\item[NU\\textbackslash{}\\_NOTA\\textbackslash{}\\_COMP3] 0\n",
       "\\item[NU\\textbackslash{}\\_NOTA\\textbackslash{}\\_COMP4] 0\n",
       "\\item[NU\\textbackslash{}\\_NOTA\\textbackslash{}\\_COMP5] 0\n",
       "\\item[NU\\textbackslash{}\\_NOTA\\textbackslash{}\\_REDACAO] 0\n",
       "\\item[Q001] 0\n",
       "\\item[Q002] 0\n",
       "\\item[Q006] 0\n",
       "\\item[Q024] 0\n",
       "\\item[Q025] 0\n",
       "\\item[Q026] 0\n",
       "\\item[Q027] 0\n",
       "\\item[Q047] 0\n",
       "\\item[NU\\textbackslash{}\\_NOTA\\textbackslash{}\\_MT] 0\n",
       "\\end{description*}\n"
      ],
      "text/markdown": [
       "TP_ENSINO\n",
       ":   6494TP_DEPENDENCIA_ADM_ESC\n",
       ":   6494NU_NOTA_CN\n",
       ":   36NU_NOTA_CH\n",
       ":   36NU_INSCRICAO\n",
       ":   0CO_UF_RESIDENCIA\n",
       ":   0SG_UF_RESIDENCIA\n",
       ":   0NU_IDADE\n",
       ":   0TP_SEXO\n",
       ":   0TP_COR_RACA\n",
       ":   0TP_NACIONALIDADE\n",
       ":   0TP_ST_CONCLUSAO\n",
       ":   0TP_ANO_CONCLUIU\n",
       ":   0TP_ESCOLA\n",
       ":   0IN_TREINEIRO\n",
       ":   0IN_BAIXA_VISAO\n",
       ":   0IN_CEGUEIRA\n",
       ":   0IN_SURDEZ\n",
       ":   0IN_DISLEXIA\n",
       ":   0IN_DISCALCULIA\n",
       ":   0IN_SABATISTA\n",
       ":   0IN_GESTANTE\n",
       ":   0IN_IDOSO\n",
       ":   0TP_PRESENCA_CN\n",
       ":   0TP_PRESENCA_CH\n",
       ":   0TP_PRESENCA_LC\n",
       ":   0CO_PROVA_CN\n",
       ":   0CO_PROVA_CH\n",
       ":   0CO_PROVA_LC\n",
       ":   0CO_PROVA_MT\n",
       ":   0NU_NOTA_LC\n",
       ":   0TP_LINGUA\n",
       ":   0TP_STATUS_REDACAO\n",
       ":   0NU_NOTA_COMP1\n",
       ":   0NU_NOTA_COMP2\n",
       ":   0NU_NOTA_COMP3\n",
       ":   0NU_NOTA_COMP4\n",
       ":   0NU_NOTA_COMP5\n",
       ":   0NU_NOTA_REDACAO\n",
       ":   0Q001\n",
       ":   0Q002\n",
       ":   0Q006\n",
       ":   0Q024\n",
       ":   0Q025\n",
       ":   0Q026\n",
       ":   0Q027\n",
       ":   0Q047\n",
       ":   0NU_NOTA_MT\n",
       ":   0\n",
       "\n"
      ],
      "text/plain": [
       "             TP_ENSINO TP_DEPENDENCIA_ADM_ESC             NU_NOTA_CN \n",
       "                  6494                   6494                     36 \n",
       "            NU_NOTA_CH           NU_INSCRICAO       CO_UF_RESIDENCIA \n",
       "                    36                      0                      0 \n",
       "      SG_UF_RESIDENCIA               NU_IDADE                TP_SEXO \n",
       "                     0                      0                      0 \n",
       "           TP_COR_RACA       TP_NACIONALIDADE        TP_ST_CONCLUSAO \n",
       "                     0                      0                      0 \n",
       "       TP_ANO_CONCLUIU              TP_ESCOLA           IN_TREINEIRO \n",
       "                     0                      0                      0 \n",
       "        IN_BAIXA_VISAO            IN_CEGUEIRA              IN_SURDEZ \n",
       "                     0                      0                      0 \n",
       "           IN_DISLEXIA         IN_DISCALCULIA           IN_SABATISTA \n",
       "                     0                      0                      0 \n",
       "           IN_GESTANTE               IN_IDOSO         TP_PRESENCA_CN \n",
       "                     0                      0                      0 \n",
       "        TP_PRESENCA_CH         TP_PRESENCA_LC            CO_PROVA_CN \n",
       "                     0                      0                      0 \n",
       "           CO_PROVA_CH            CO_PROVA_LC            CO_PROVA_MT \n",
       "                     0                      0                      0 \n",
       "            NU_NOTA_LC              TP_LINGUA      TP_STATUS_REDACAO \n",
       "                     0                      0                      0 \n",
       "         NU_NOTA_COMP1          NU_NOTA_COMP2          NU_NOTA_COMP3 \n",
       "                     0                      0                      0 \n",
       "         NU_NOTA_COMP4          NU_NOTA_COMP5        NU_NOTA_REDACAO \n",
       "                     0                      0                      0 \n",
       "                  Q001                   Q002                   Q006 \n",
       "                     0                      0                      0 \n",
       "                  Q024                   Q025                   Q026 \n",
       "                     0                      0                      0 \n",
       "                  Q027                   Q047             NU_NOTA_MT \n",
       "                     0                      0                      0 "
      ]
     },
     "metadata": {},
     "output_type": "display_data"
    }
   ],
   "source": [
    "sort(colSums(is.na(base)),decreasing = TRUE)"
   ]
  },
  {
   "cell_type": "markdown",
   "metadata": {},
   "source": [
    "***Algumas estatísticas das 4 variáveis que apresentam quantidades de NA's.***"
   ]
  },
  {
   "cell_type": "code",
   "execution_count": 13,
   "metadata": {},
   "outputs": [
    {
     "data": {
      "text/plain": [
       "       V1              V2              V3              V4       \n",
       " Min.   :1.000   Min.   :1.000   Min.   :  0.0   Min.   :  0.0  \n",
       " 1st Qu.:1.000   1st Qu.:2.000   1st Qu.:420.1   1st Qu.:481.0  \n",
       " Median :1.000   Median :2.000   Median :460.4   Median :532.6  \n",
       " Mean   :1.133   Mean   :2.289   Mean   :473.9   Mean   :530.3  \n",
       " 3rd Qu.:1.000   3rd Qu.:2.000   3rd Qu.:515.1   3rd Qu.:581.9  \n",
       " Max.   :3.000   Max.   :4.000   Max.   :806.4   Max.   :807.0  \n",
       " NA's   :6494    NA's   :6494    NA's   :36      NA's   :36     "
      ]
     },
     "metadata": {},
     "output_type": "display_data"
    }
   ],
   "source": [
    "summary( cbind(base$TP_ENSINO, base$TP_DEPENDENCIA_ADM_ESC, base$NU_NOTA_CN, base$NU_NOTA_CH) )"
   ]
  },
  {
   "cell_type": "markdown",
   "metadata": {},
   "source": [
    "*Removendo **DUAS** dessas quatro variáveis que apresentam muitos valores faltantes. Decidi deixar as outras duas, porque elas apresentam poucas quantidades de NA's em relação as demais. Estas variáveis representam **as notas de Ciências da Natureza e Ciências Humanas**. Nós poderíamos ter removido as 36 linhas (registros) onde essas duas variáveis apresentam NA, mas se nós fizéssemos isto, iriamos perder 36 registros da nossa variável resposta. Para resolver este problema iremos fazer adiante uma imputação de dados.*\n",
    "\n",
    "Lembrando que na **base de treino** ainda temos **47 variáveis**. As variáveis que estão sendo removidas aqui na **base** também **serão removidas** mais adiante na **base de teste** para podermos fazer as previsões."
   ]
  },
  {
   "cell_type": "code",
   "execution_count": 14,
   "metadata": {},
   "outputs": [
    {
     "data": {
      "text/html": [
       "<ol class=list-inline>\n",
       "\t<li>10133</li>\n",
       "\t<li>48</li>\n",
       "</ol>\n"
      ],
      "text/latex": [
       "\\begin{enumerate*}\n",
       "\\item 10133\n",
       "\\item 48\n",
       "\\end{enumerate*}\n"
      ],
      "text/markdown": [
       "1. 10133\n",
       "2. 48\n",
       "\n",
       "\n"
      ],
      "text/plain": [
       "[1] 10133    48"
      ]
     },
     "metadata": {},
     "output_type": "display_data"
    },
    {
     "data": {
      "text/html": [
       "<ol class=list-inline>\n",
       "\t<li>10133</li>\n",
       "\t<li>46</li>\n",
       "</ol>\n"
      ],
      "text/latex": [
       "\\begin{enumerate*}\n",
       "\\item 10133\n",
       "\\item 46\n",
       "\\end{enumerate*}\n"
      ],
      "text/markdown": [
       "1. 10133\n",
       "2. 46\n",
       "\n",
       "\n"
      ],
      "text/plain": [
       "[1] 10133    46"
      ]
     },
     "metadata": {},
     "output_type": "display_data"
    }
   ],
   "source": [
    "dim(base)\n",
    "\n",
    "base$TP_ENSINO = NULL\n",
    "base$TP_DEPENDENCIA_ADM_ESC = NULL\n",
    "\n",
    "dim(base)"
   ]
  },
  {
   "cell_type": "markdown",
   "metadata": {},
   "source": [
    "_Aqui iremos fazer uma **imputação de dados** para as 2 variaveis que apresentaram poucos **valores NA's**._\n",
    "\n",
    "**Os comando abaixo substituem o valor NA pela mediana da variável. Por exemplo, se a nota de ciências da Natureza do for NA subistitua essa nota pela Mediana das notas.**"
   ]
  },
  {
   "cell_type": "code",
   "execution_count": 15,
   "metadata": {},
   "outputs": [],
   "source": [
    "base$NU_NOTA_CN = ifelse(is.na(base$NU_NOTA_CN), median(base$NU_NOTA_CN, na.rm = TRUE) , base$NU_NOTA_CN) \n",
    "base$NU_NOTA_CH = ifelse(is.na(base$NU_NOTA_CH), median(base$NU_NOTA_CH, na.rm = TRUE) , base$NU_NOTA_CH) "
   ]
  },
  {
   "cell_type": "markdown",
   "metadata": {},
   "source": [
    "***Verificando os tipos das variáveis***"
   ]
  },
  {
   "cell_type": "code",
   "execution_count": 16,
   "metadata": {},
   "outputs": [
    {
     "name": "stdout",
     "output_type": "stream",
     "text": [
      "'data.frame':\t10133 obs. of  46 variables:\n",
      " $ NU_INSCRICAO     : Factor w/ 13730 levels \"0003e4a7d68117b3585d3a0fc2b7cf3ca7ee0e8e\",..: 12711 2450 8732 5369 2550 4755 3288 5996 6066 5586 ...\n",
      " $ CO_UF_RESIDENCIA : int  43 23 29 51 43 26 26 21 43 24 ...\n",
      " $ SG_UF_RESIDENCIA : Factor w/ 27 levels \"AC\",\"AL\",\"AM\",..: 23 6 5 13 23 16 16 10 23 20 ...\n",
      " $ NU_IDADE         : int  24 17 18 18 18 16 29 17 27 18 ...\n",
      " $ TP_SEXO          : Factor w/ 2 levels \"F\",\"M\": 2 1 1 1 1 1 1 1 2 2 ...\n",
      " $ TP_COR_RACA      : int  1 3 1 3 1 3 3 3 3 3 ...\n",
      " $ TP_NACIONALIDADE : int  1 1 1 1 1 1 1 1 1 1 ...\n",
      " $ TP_ST_CONCLUSAO  : int  1 2 1 2 1 2 1 2 1 1 ...\n",
      " $ TP_ANO_CONCLUIU  : int  4 0 1 0 1 0 8 0 7 2 ...\n",
      " $ TP_ESCOLA        : int  1 2 1 2 1 2 1 2 1 1 ...\n",
      " $ IN_TREINEIRO     : int  0 0 0 0 0 0 0 0 0 0 ...\n",
      " $ IN_BAIXA_VISAO   : int  0 0 0 0 0 0 0 0 0 0 ...\n",
      " $ IN_CEGUEIRA      : int  0 0 0 0 0 0 0 0 0 0 ...\n",
      " $ IN_SURDEZ        : int  0 0 0 0 0 0 0 0 0 0 ...\n",
      " $ IN_DISLEXIA      : int  0 0 0 0 0 0 0 0 0 0 ...\n",
      " $ IN_DISCALCULIA   : int  0 0 0 0 0 0 0 0 0 0 ...\n",
      " $ IN_SABATISTA     : int  0 0 0 0 0 0 0 0 0 0 ...\n",
      " $ IN_GESTANTE      : int  0 0 0 0 0 0 0 0 0 0 ...\n",
      " $ IN_IDOSO         : int  0 0 0 0 0 0 0 0 0 0 ...\n",
      " $ TP_PRESENCA_CN   : int  1 1 1 1 1 1 1 1 1 1 ...\n",
      " $ TP_PRESENCA_CH   : int  1 1 1 1 1 1 1 1 1 1 ...\n",
      " $ TP_PRESENCA_LC   : int  1 1 1 1 1 1 1 1 1 1 ...\n",
      " $ CO_PROVA_CN      : Factor w/ 10 levels \"03b1fba5c1ebbc47988cd303b08982cfb2aa9cf2\",..: 2 8 9 5 8 8 2 5 9 8 ...\n",
      " $ CO_PROVA_CH      : Factor w/ 10 levels \"0fb4772fc6ee9b951ade2fbe6699cc37985c422e\",..: 6 4 9 5 4 4 6 5 9 4 ...\n",
      " $ CO_PROVA_LC      : Factor w/ 9 levels \"01abbb7f1a90505385f44eec9905f82ca2a42cfd\",..: 2 2 1 6 7 6 6 1 6 6 ...\n",
      " $ CO_PROVA_MT      : Factor w/ 9 levels \"0e0082361eaceb6418bb17305a2b7912650b4783\",..: 9 9 8 7 4 7 7 8 7 7 ...\n",
      " $ NU_NOTA_CN       : num  436 474 440 420 620 ...\n",
      " $ NU_NOTA_CH       : num  495 544 583 604 626 ...\n",
      " $ NU_NOTA_LC       : num  581 599 411 484 611 ...\n",
      " $ TP_LINGUA        : int  1 1 0 0 0 1 1 1 0 0 ...\n",
      " $ TP_STATUS_REDACAO: int  1 1 1 1 1 1 1 1 1 1 ...\n",
      " $ NU_NOTA_COMP1    : int  120 140 120 100 140 140 100 120 120 100 ...\n",
      " $ NU_NOTA_COMP2    : int  120 120 120 120 120 160 100 160 80 60 ...\n",
      " $ NU_NOTA_COMP3    : int  120 120 120 120 120 140 100 120 40 60 ...\n",
      " $ NU_NOTA_COMP4    : int  80 120 160 120 120 140 100 120 120 80 ...\n",
      " $ NU_NOTA_COMP5    : int  80 80 100 100 120 100 120 60 0 60 ...\n",
      " $ NU_NOTA_REDACAO  : int  520 580 620 560 620 680 520 580 360 360 ...\n",
      " $ Q001             : Factor w/ 8 levels \"A\",\"B\",\"C\",\"D\",..: 4 1 5 5 7 8 1 4 2 2 ...\n",
      " $ Q002             : Factor w/ 8 levels \"A\",\"B\",\"C\",\"D\",..: 4 1 5 4 6 5 2 5 5 1 ...\n",
      " $ Q006             : Factor w/ 17 levels \"A\",\"B\",\"C\",\"D\",..: 3 2 3 3 12 2 2 2 2 1 ...\n",
      " $ Q024             : Factor w/ 5 levels \"A\",\"B\",\"C\",\"D\",..: 1 1 2 2 2 1 1 1 3 1 ...\n",
      " $ Q025             : Factor w/ 2 levels \"A\",\"B\": 1 1 2 2 2 2 1 1 1 1 ...\n",
      " $ Q026             : Factor w/ 3 levels \"A\",\"B\",\"C\": 3 1 1 3 1 1 3 1 2 1 ...\n",
      " $ Q027             : Factor w/ 14 levels \"\",\"A\",\"B\",\"C\",..: 9 1 1 6 1 1 14 1 4 1 ...\n",
      " $ Q047             : Factor w/ 5 levels \"A\",\"B\",\"C\",\"D\",..: 1 1 1 1 4 1 1 1 1 1 ...\n",
      " $ NU_NOTA_MT       : num  399 460 364 529 567 ...\n"
     ]
    }
   ],
   "source": [
    "str(base)"
   ]
  },
  {
   "cell_type": "markdown",
   "metadata": {},
   "source": [
    "***Removendo mais algumas variáveis e convertendo algumas delas para o tipo fator.***\n",
    "\n",
    "Lembrando que na **base de treino** ainda temos **47 variáveis**.\n",
    "\n",
    "As variáveis que estão sendo removidas aqui na **base** também **serão removidas** mais adiante na **base de teste** para podermos fazer as previsões."
   ]
  },
  {
   "cell_type": "code",
   "execution_count": 17,
   "metadata": {},
   "outputs": [],
   "source": [
    "base$CO_UF_RESIDENCIA = NULL\n",
    "base$TP_COR_RACA = as.factor(base$TP_COR_RACA)\n",
    "base$TP_NACIONALIDADE = as.factor(base$TP_NACIONALIDADE)\n",
    "base$TP_ST_CONCLUSAO = as.factor(base$TP_ST_CONCLUSAO)\n",
    "base$TP_ANO_CONCLUIU = as.factor(base$TP_ANO_CONCLUIU)\n",
    "base$TP_ESCOLA = as.factor(base$TP_ESCOLA)\n",
    "base$IN_TREINEIRO = as.factor(base$IN_TREINEIRO)\n",
    "base$IN_BAIXA_VISAO = as.factor(base$IN_BAIXA_VISAO)\n",
    "base$IN_CEGUEIRA = as.factor(base$IN_CEGUEIRA)\n",
    "base$IN_SURDEZ = as.factor(base$IN_SURDEZ)\n",
    "base$IN_DISLEXIA = NULL\n",
    "base$IN_DISCALCULIA = NULL\n",
    "base$IN_SABATISTA = as.factor(base$IN_SABATISTA)\n",
    "base$IN_GESTANTE = as.factor(base$IN_GESTANTE)\n",
    "base$IN_IDOSO = NULL\n",
    "base$TP_PRESENCA_CN = as.factor(base$TP_PRESENCA_CN)\n",
    "base$TP_LINGUA = as.factor(base$TP_LINGUA)\n",
    "base$TP_STATUS_REDACAO = NULL"
   ]
  },
  {
   "cell_type": "code",
   "execution_count": 18,
   "metadata": {},
   "outputs": [
    {
     "name": "stdout",
     "output_type": "stream",
     "text": [
      "'data.frame':\t10133 obs. of  41 variables:\n",
      " $ NU_INSCRICAO    : Factor w/ 13730 levels \"0003e4a7d68117b3585d3a0fc2b7cf3ca7ee0e8e\",..: 12711 2450 8732 5369 2550 4755 3288 5996 6066 5586 ...\n",
      " $ SG_UF_RESIDENCIA: Factor w/ 27 levels \"AC\",\"AL\",\"AM\",..: 23 6 5 13 23 16 16 10 23 20 ...\n",
      " $ NU_IDADE        : int  24 17 18 18 18 16 29 17 27 18 ...\n",
      " $ TP_SEXO         : Factor w/ 2 levels \"F\",\"M\": 2 1 1 1 1 1 1 1 2 2 ...\n",
      " $ TP_COR_RACA     : Factor w/ 6 levels \"0\",\"1\",\"2\",\"3\",..: 2 4 2 4 2 4 4 4 4 4 ...\n",
      " $ TP_NACIONALIDADE: Factor w/ 5 levels \"0\",\"1\",\"2\",\"3\",..: 2 2 2 2 2 2 2 2 2 2 ...\n",
      " $ TP_ST_CONCLUSAO : Factor w/ 4 levels \"1\",\"2\",\"3\",\"4\": 1 2 1 2 1 2 1 2 1 1 ...\n",
      " $ TP_ANO_CONCLUIU : Factor w/ 11 levels \"0\",\"1\",\"2\",\"3\",..: 5 1 2 1 2 1 9 1 8 3 ...\n",
      " $ TP_ESCOLA       : Factor w/ 4 levels \"1\",\"2\",\"3\",\"4\": 1 2 1 2 1 2 1 2 1 1 ...\n",
      " $ IN_TREINEIRO    : Factor w/ 2 levels \"0\",\"1\": 1 1 1 1 1 1 1 1 1 1 ...\n",
      " $ IN_BAIXA_VISAO  : Factor w/ 2 levels \"0\",\"1\": 1 1 1 1 1 1 1 1 1 1 ...\n",
      " $ IN_CEGUEIRA     : Factor w/ 1 level \"0\": 1 1 1 1 1 1 1 1 1 1 ...\n",
      " $ IN_SURDEZ       : Factor w/ 2 levels \"0\",\"1\": 1 1 1 1 1 1 1 1 1 1 ...\n",
      " $ IN_SABATISTA    : Factor w/ 2 levels \"0\",\"1\": 1 1 1 1 1 1 1 1 1 1 ...\n",
      " $ IN_GESTANTE     : Factor w/ 2 levels \"0\",\"1\": 1 1 1 1 1 1 1 1 1 1 ...\n",
      " $ TP_PRESENCA_CN  : Factor w/ 3 levels \"0\",\"1\",\"2\": 2 2 2 2 2 2 2 2 2 2 ...\n",
      " $ TP_PRESENCA_CH  : int  1 1 1 1 1 1 1 1 1 1 ...\n",
      " $ TP_PRESENCA_LC  : int  1 1 1 1 1 1 1 1 1 1 ...\n",
      " $ CO_PROVA_CN     : Factor w/ 10 levels \"03b1fba5c1ebbc47988cd303b08982cfb2aa9cf2\",..: 2 8 9 5 8 8 2 5 9 8 ...\n",
      " $ CO_PROVA_CH     : Factor w/ 10 levels \"0fb4772fc6ee9b951ade2fbe6699cc37985c422e\",..: 6 4 9 5 4 4 6 5 9 4 ...\n",
      " $ CO_PROVA_LC     : Factor w/ 9 levels \"01abbb7f1a90505385f44eec9905f82ca2a42cfd\",..: 2 2 1 6 7 6 6 1 6 6 ...\n",
      " $ CO_PROVA_MT     : Factor w/ 9 levels \"0e0082361eaceb6418bb17305a2b7912650b4783\",..: 9 9 8 7 4 7 7 8 7 7 ...\n",
      " $ NU_NOTA_CN      : num  436 474 440 420 620 ...\n",
      " $ NU_NOTA_CH      : num  495 544 583 604 626 ...\n",
      " $ NU_NOTA_LC      : num  581 599 411 484 611 ...\n",
      " $ TP_LINGUA       : Factor w/ 2 levels \"0\",\"1\": 2 2 1 1 1 2 2 2 1 1 ...\n",
      " $ NU_NOTA_COMP1   : int  120 140 120 100 140 140 100 120 120 100 ...\n",
      " $ NU_NOTA_COMP2   : int  120 120 120 120 120 160 100 160 80 60 ...\n",
      " $ NU_NOTA_COMP3   : int  120 120 120 120 120 140 100 120 40 60 ...\n",
      " $ NU_NOTA_COMP4   : int  80 120 160 120 120 140 100 120 120 80 ...\n",
      " $ NU_NOTA_COMP5   : int  80 80 100 100 120 100 120 60 0 60 ...\n",
      " $ NU_NOTA_REDACAO : int  520 580 620 560 620 680 520 580 360 360 ...\n",
      " $ Q001            : Factor w/ 8 levels \"A\",\"B\",\"C\",\"D\",..: 4 1 5 5 7 8 1 4 2 2 ...\n",
      " $ Q002            : Factor w/ 8 levels \"A\",\"B\",\"C\",\"D\",..: 4 1 5 4 6 5 2 5 5 1 ...\n",
      " $ Q006            : Factor w/ 17 levels \"A\",\"B\",\"C\",\"D\",..: 3 2 3 3 12 2 2 2 2 1 ...\n",
      " $ Q024            : Factor w/ 5 levels \"A\",\"B\",\"C\",\"D\",..: 1 1 2 2 2 1 1 1 3 1 ...\n",
      " $ Q025            : Factor w/ 2 levels \"A\",\"B\": 1 1 2 2 2 2 1 1 1 1 ...\n",
      " $ Q026            : Factor w/ 3 levels \"A\",\"B\",\"C\": 3 1 1 3 1 1 3 1 2 1 ...\n",
      " $ Q027            : Factor w/ 14 levels \"\",\"A\",\"B\",\"C\",..: 9 1 1 6 1 1 14 1 4 1 ...\n",
      " $ Q047            : Factor w/ 5 levels \"A\",\"B\",\"C\",\"D\",..: 1 1 1 1 4 1 1 1 1 1 ...\n",
      " $ NU_NOTA_MT      : num  399 460 364 529 567 ...\n"
     ]
    }
   ],
   "source": [
    "str(base)"
   ]
  },
  {
   "cell_type": "markdown",
   "metadata": {},
   "source": [
    "*Aqui estamos removendo da base um único registro (uma linha) que pertence ao nível (categoria) 4 da variável 'TP_ESCOLA' que é do tipo fator. **Nenhum registro da baseTreino é classificado como sendo do nível (categoria) 4**. Portanto decidimos remover este único registro da **base** que será usada para treinar nosso modelo de aprendizagem de máquina.*"
   ]
  },
  {
   "cell_type": "code",
   "execution_count": 19,
   "metadata": {},
   "outputs": [
    {
     "data": {
      "text/html": [
       "<ol class=list-inline>\n",
       "\t<li>10133</li>\n",
       "\t<li>41</li>\n",
       "</ol>\n"
      ],
      "text/latex": [
       "\\begin{enumerate*}\n",
       "\\item 10133\n",
       "\\item 41\n",
       "\\end{enumerate*}\n"
      ],
      "text/markdown": [
       "1. 10133\n",
       "2. 41\n",
       "\n",
       "\n"
      ],
      "text/plain": [
       "[1] 10133    41"
      ]
     },
     "metadata": {},
     "output_type": "display_data"
    },
    {
     "data": {
      "text/html": [
       "<ol class=list-inline>\n",
       "\t<li>10132</li>\n",
       "\t<li>41</li>\n",
       "</ol>\n"
      ],
      "text/latex": [
       "\\begin{enumerate*}\n",
       "\\item 10132\n",
       "\\item 41\n",
       "\\end{enumerate*}\n"
      ],
      "text/markdown": [
       "1. 10132\n",
       "2. 41\n",
       "\n",
       "\n"
      ],
      "text/plain": [
       "[1] 10132    41"
      ]
     },
     "metadata": {},
     "output_type": "display_data"
    }
   ],
   "source": [
    "dim(base)\n",
    "\n",
    "base = base[-which(base$TP_ESCOLA == 4),]\n",
    "\n",
    "base$TP_ESCOLA=droplevels(base$TP_ESCOLA)\n",
    "\n",
    "dim(base)"
   ]
  },
  {
   "cell_type": "markdown",
   "metadata": {},
   "source": [
    "***Removendo e convertendo mais algumas variáveis.***\n",
    "\n",
    "Lembre-se na **base de treino** ainda temos **47 variáveis**.\n"
   ]
  },
  {
   "cell_type": "code",
   "execution_count": 20,
   "metadata": {},
   "outputs": [
    {
     "data": {
      "text/html": [
       "<ol class=list-inline>\n",
       "\t<li>10132</li>\n",
       "\t<li>32</li>\n",
       "</ol>\n"
      ],
      "text/latex": [
       "\\begin{enumerate*}\n",
       "\\item 10132\n",
       "\\item 32\n",
       "\\end{enumerate*}\n"
      ],
      "text/markdown": [
       "1. 10132\n",
       "2. 32\n",
       "\n",
       "\n"
      ],
      "text/plain": [
       "[1] 10132    32"
      ]
     },
     "metadata": {},
     "output_type": "display_data"
    }
   ],
   "source": [
    "base$TP_PRESENCA_CH = NULL\n",
    "base$TP_PRESENCA_CN = NULL\n",
    "base$TP_PRESENCA_LC = NULL\n",
    "base$CO_PROVA_CN = NULL\n",
    "base$CO_PROVA_CH = NULL\n",
    "base$CO_PROVA_LC = NULL\n",
    "base$CO_PROVA_MT = NULL\n",
    "base$Q027 = NULL\n",
    "base$IN_CEGUEIRA = NULL\n",
    "base$NU_IDADE = as.numeric(base$NU_IDADE)\n",
    "base$NU_NOTA_REDACAO = as.numeric(base$NU_NOTA_REDACAO)\n",
    "\n",
    "dim(base)"
   ]
  },
  {
   "cell_type": "markdown",
   "metadata": {},
   "source": [
    "***A partir daqui podemos fazer uma análise exploratória e descritiva dos dados para ficarmos mais familiarizados com eles. Podemos fazer algumas análises gráficas, verificar se existe algum padrão intuitivo a partir dessas visualizações, além de obter e fornecer informações relevantes sobre o comportamento ou tendência dos participantes do ENEM 2016.***\n",
    "\n",
    "Para não deixar este notebook mais extenso, vou diretamente para o ajuste do modelo de aprendizagem de máquina.\n",
    "Decidi utilizar o modelo de Floresta Aleatória (ou **Random Forest** para quem gosta de anglicismo)."
   ]
  },
  {
   "cell_type": "markdown",
   "metadata": {},
   "source": [
    "## Ajustando o modelo de aprendizagem de máquina"
   ]
  },
  {
   "cell_type": "markdown",
   "metadata": {},
   "source": [
    "***Esta etapa pode demorar um pouco, pois o valor do parâmetro 'ntree' da funcão 'randomForest' que estou usando é 250 (árvores).***"
   ]
  },
  {
   "cell_type": "code",
   "execution_count": 21,
   "metadata": {},
   "outputs": [],
   "source": [
    "regressor = randomForest(x = base[-which(names(base)==c(\"NU_INSCRICAO\", \"NU_NOTA_MT\"))], y = base$NU_NOTA_MT, ntree = 250)\n"
   ]
  },
  {
   "cell_type": "markdown",
   "metadata": {},
   "source": [
    "***Identificando as variaveis usadas na base de treino.***"
   ]
  },
  {
   "cell_type": "code",
   "execution_count": 22,
   "metadata": {},
   "outputs": [],
   "source": [
    "variaveis = names(base)"
   ]
  },
  {
   "cell_type": "code",
   "execution_count": 23,
   "metadata": {
    "scrolled": true
   },
   "outputs": [
    {
     "data": {
      "text/html": [
       "<ol class=list-inline>\n",
       "\t<li>'NU_INSCRICAO'</li>\n",
       "\t<li>'SG_UF_RESIDENCIA'</li>\n",
       "\t<li>'NU_IDADE'</li>\n",
       "\t<li>'TP_SEXO'</li>\n",
       "\t<li>'TP_COR_RACA'</li>\n",
       "\t<li>'TP_NACIONALIDADE'</li>\n",
       "\t<li>'TP_ST_CONCLUSAO'</li>\n",
       "\t<li>'TP_ANO_CONCLUIU'</li>\n",
       "\t<li>'TP_ESCOLA'</li>\n",
       "\t<li>'IN_TREINEIRO'</li>\n",
       "\t<li>'IN_BAIXA_VISAO'</li>\n",
       "\t<li>'IN_SURDEZ'</li>\n",
       "\t<li>'IN_SABATISTA'</li>\n",
       "\t<li>'IN_GESTANTE'</li>\n",
       "\t<li>'NU_NOTA_CN'</li>\n",
       "\t<li>'NU_NOTA_CH'</li>\n",
       "\t<li>'NU_NOTA_LC'</li>\n",
       "\t<li>'TP_LINGUA'</li>\n",
       "\t<li>'NU_NOTA_COMP1'</li>\n",
       "\t<li>'NU_NOTA_COMP2'</li>\n",
       "\t<li>'NU_NOTA_COMP3'</li>\n",
       "\t<li>'NU_NOTA_COMP4'</li>\n",
       "\t<li>'NU_NOTA_COMP5'</li>\n",
       "\t<li>'NU_NOTA_REDACAO'</li>\n",
       "\t<li>'Q001'</li>\n",
       "\t<li>'Q002'</li>\n",
       "\t<li>'Q006'</li>\n",
       "\t<li>'Q024'</li>\n",
       "\t<li>'Q025'</li>\n",
       "\t<li>'Q026'</li>\n",
       "\t<li>'Q047'</li>\n",
       "\t<li>'NU_NOTA_MT'</li>\n",
       "</ol>\n"
      ],
      "text/latex": [
       "\\begin{enumerate*}\n",
       "\\item 'NU\\_INSCRICAO'\n",
       "\\item 'SG\\_UF\\_RESIDENCIA'\n",
       "\\item 'NU\\_IDADE'\n",
       "\\item 'TP\\_SEXO'\n",
       "\\item 'TP\\_COR\\_RACA'\n",
       "\\item 'TP\\_NACIONALIDADE'\n",
       "\\item 'TP\\_ST\\_CONCLUSAO'\n",
       "\\item 'TP\\_ANO\\_CONCLUIU'\n",
       "\\item 'TP\\_ESCOLA'\n",
       "\\item 'IN\\_TREINEIRO'\n",
       "\\item 'IN\\_BAIXA\\_VISAO'\n",
       "\\item 'IN\\_SURDEZ'\n",
       "\\item 'IN\\_SABATISTA'\n",
       "\\item 'IN\\_GESTANTE'\n",
       "\\item 'NU\\_NOTA\\_CN'\n",
       "\\item 'NU\\_NOTA\\_CH'\n",
       "\\item 'NU\\_NOTA\\_LC'\n",
       "\\item 'TP\\_LINGUA'\n",
       "\\item 'NU\\_NOTA\\_COMP1'\n",
       "\\item 'NU\\_NOTA\\_COMP2'\n",
       "\\item 'NU\\_NOTA\\_COMP3'\n",
       "\\item 'NU\\_NOTA\\_COMP4'\n",
       "\\item 'NU\\_NOTA\\_COMP5'\n",
       "\\item 'NU\\_NOTA\\_REDACAO'\n",
       "\\item 'Q001'\n",
       "\\item 'Q002'\n",
       "\\item 'Q006'\n",
       "\\item 'Q024'\n",
       "\\item 'Q025'\n",
       "\\item 'Q026'\n",
       "\\item 'Q047'\n",
       "\\item 'NU\\_NOTA\\_MT'\n",
       "\\end{enumerate*}\n"
      ],
      "text/markdown": [
       "1. 'NU_INSCRICAO'\n",
       "2. 'SG_UF_RESIDENCIA'\n",
       "3. 'NU_IDADE'\n",
       "4. 'TP_SEXO'\n",
       "5. 'TP_COR_RACA'\n",
       "6. 'TP_NACIONALIDADE'\n",
       "7. 'TP_ST_CONCLUSAO'\n",
       "8. 'TP_ANO_CONCLUIU'\n",
       "9. 'TP_ESCOLA'\n",
       "10. 'IN_TREINEIRO'\n",
       "11. 'IN_BAIXA_VISAO'\n",
       "12. 'IN_SURDEZ'\n",
       "13. 'IN_SABATISTA'\n",
       "14. 'IN_GESTANTE'\n",
       "15. 'NU_NOTA_CN'\n",
       "16. 'NU_NOTA_CH'\n",
       "17. 'NU_NOTA_LC'\n",
       "18. 'TP_LINGUA'\n",
       "19. 'NU_NOTA_COMP1'\n",
       "20. 'NU_NOTA_COMP2'\n",
       "21. 'NU_NOTA_COMP3'\n",
       "22. 'NU_NOTA_COMP4'\n",
       "23. 'NU_NOTA_COMP5'\n",
       "24. 'NU_NOTA_REDACAO'\n",
       "25. 'Q001'\n",
       "26. 'Q002'\n",
       "27. 'Q006'\n",
       "28. 'Q024'\n",
       "29. 'Q025'\n",
       "30. 'Q026'\n",
       "31. 'Q047'\n",
       "32. 'NU_NOTA_MT'\n",
       "\n",
       "\n"
      ],
      "text/plain": [
       " [1] \"NU_INSCRICAO\"     \"SG_UF_RESIDENCIA\" \"NU_IDADE\"         \"TP_SEXO\"         \n",
       " [5] \"TP_COR_RACA\"      \"TP_NACIONALIDADE\" \"TP_ST_CONCLUSAO\"  \"TP_ANO_CONCLUIU\" \n",
       " [9] \"TP_ESCOLA\"        \"IN_TREINEIRO\"     \"IN_BAIXA_VISAO\"   \"IN_SURDEZ\"       \n",
       "[13] \"IN_SABATISTA\"     \"IN_GESTANTE\"      \"NU_NOTA_CN\"       \"NU_NOTA_CH\"      \n",
       "[17] \"NU_NOTA_LC\"       \"TP_LINGUA\"        \"NU_NOTA_COMP1\"    \"NU_NOTA_COMP2\"   \n",
       "[21] \"NU_NOTA_COMP3\"    \"NU_NOTA_COMP4\"    \"NU_NOTA_COMP5\"    \"NU_NOTA_REDACAO\" \n",
       "[25] \"Q001\"             \"Q002\"             \"Q006\"             \"Q024\"            \n",
       "[29] \"Q025\"             \"Q026\"             \"Q047\"             \"NU_NOTA_MT\"      "
      ]
     },
     "metadata": {},
     "output_type": "display_data"
    }
   ],
   "source": [
    "variaveis"
   ]
  },
  {
   "cell_type": "markdown",
   "metadata": {},
   "source": [
    "***Removendo a primeira e a última posição que representa o número de inscrição e a nota do participante.***"
   ]
  },
  {
   "cell_type": "code",
   "execution_count": 24,
   "metadata": {},
   "outputs": [],
   "source": [
    "variaveis = variaveis[-which(variaveis==c(\"NU_INSCRICAO\", \"NU_NOTA_MT\"))]"
   ]
  },
  {
   "cell_type": "code",
   "execution_count": 25,
   "metadata": {},
   "outputs": [
    {
     "data": {
      "text/html": [
       "<ol class=list-inline>\n",
       "\t<li>'SG_UF_RESIDENCIA'</li>\n",
       "\t<li>'NU_IDADE'</li>\n",
       "\t<li>'TP_SEXO'</li>\n",
       "\t<li>'TP_COR_RACA'</li>\n",
       "\t<li>'TP_NACIONALIDADE'</li>\n",
       "\t<li>'TP_ST_CONCLUSAO'</li>\n",
       "\t<li>'TP_ANO_CONCLUIU'</li>\n",
       "\t<li>'TP_ESCOLA'</li>\n",
       "\t<li>'IN_TREINEIRO'</li>\n",
       "\t<li>'IN_BAIXA_VISAO'</li>\n",
       "\t<li>'IN_SURDEZ'</li>\n",
       "\t<li>'IN_SABATISTA'</li>\n",
       "\t<li>'IN_GESTANTE'</li>\n",
       "\t<li>'NU_NOTA_CN'</li>\n",
       "\t<li>'NU_NOTA_CH'</li>\n",
       "\t<li>'NU_NOTA_LC'</li>\n",
       "\t<li>'TP_LINGUA'</li>\n",
       "\t<li>'NU_NOTA_COMP1'</li>\n",
       "\t<li>'NU_NOTA_COMP2'</li>\n",
       "\t<li>'NU_NOTA_COMP3'</li>\n",
       "\t<li>'NU_NOTA_COMP4'</li>\n",
       "\t<li>'NU_NOTA_COMP5'</li>\n",
       "\t<li>'NU_NOTA_REDACAO'</li>\n",
       "\t<li>'Q001'</li>\n",
       "\t<li>'Q002'</li>\n",
       "\t<li>'Q006'</li>\n",
       "\t<li>'Q024'</li>\n",
       "\t<li>'Q025'</li>\n",
       "\t<li>'Q026'</li>\n",
       "\t<li>'Q047'</li>\n",
       "</ol>\n"
      ],
      "text/latex": [
       "\\begin{enumerate*}\n",
       "\\item 'SG\\_UF\\_RESIDENCIA'\n",
       "\\item 'NU\\_IDADE'\n",
       "\\item 'TP\\_SEXO'\n",
       "\\item 'TP\\_COR\\_RACA'\n",
       "\\item 'TP\\_NACIONALIDADE'\n",
       "\\item 'TP\\_ST\\_CONCLUSAO'\n",
       "\\item 'TP\\_ANO\\_CONCLUIU'\n",
       "\\item 'TP\\_ESCOLA'\n",
       "\\item 'IN\\_TREINEIRO'\n",
       "\\item 'IN\\_BAIXA\\_VISAO'\n",
       "\\item 'IN\\_SURDEZ'\n",
       "\\item 'IN\\_SABATISTA'\n",
       "\\item 'IN\\_GESTANTE'\n",
       "\\item 'NU\\_NOTA\\_CN'\n",
       "\\item 'NU\\_NOTA\\_CH'\n",
       "\\item 'NU\\_NOTA\\_LC'\n",
       "\\item 'TP\\_LINGUA'\n",
       "\\item 'NU\\_NOTA\\_COMP1'\n",
       "\\item 'NU\\_NOTA\\_COMP2'\n",
       "\\item 'NU\\_NOTA\\_COMP3'\n",
       "\\item 'NU\\_NOTA\\_COMP4'\n",
       "\\item 'NU\\_NOTA\\_COMP5'\n",
       "\\item 'NU\\_NOTA\\_REDACAO'\n",
       "\\item 'Q001'\n",
       "\\item 'Q002'\n",
       "\\item 'Q006'\n",
       "\\item 'Q024'\n",
       "\\item 'Q025'\n",
       "\\item 'Q026'\n",
       "\\item 'Q047'\n",
       "\\end{enumerate*}\n"
      ],
      "text/markdown": [
       "1. 'SG_UF_RESIDENCIA'\n",
       "2. 'NU_IDADE'\n",
       "3. 'TP_SEXO'\n",
       "4. 'TP_COR_RACA'\n",
       "5. 'TP_NACIONALIDADE'\n",
       "6. 'TP_ST_CONCLUSAO'\n",
       "7. 'TP_ANO_CONCLUIU'\n",
       "8. 'TP_ESCOLA'\n",
       "9. 'IN_TREINEIRO'\n",
       "10. 'IN_BAIXA_VISAO'\n",
       "11. 'IN_SURDEZ'\n",
       "12. 'IN_SABATISTA'\n",
       "13. 'IN_GESTANTE'\n",
       "14. 'NU_NOTA_CN'\n",
       "15. 'NU_NOTA_CH'\n",
       "16. 'NU_NOTA_LC'\n",
       "17. 'TP_LINGUA'\n",
       "18. 'NU_NOTA_COMP1'\n",
       "19. 'NU_NOTA_COMP2'\n",
       "20. 'NU_NOTA_COMP3'\n",
       "21. 'NU_NOTA_COMP4'\n",
       "22. 'NU_NOTA_COMP5'\n",
       "23. 'NU_NOTA_REDACAO'\n",
       "24. 'Q001'\n",
       "25. 'Q002'\n",
       "26. 'Q006'\n",
       "27. 'Q024'\n",
       "28. 'Q025'\n",
       "29. 'Q026'\n",
       "30. 'Q047'\n",
       "\n",
       "\n"
      ],
      "text/plain": [
       " [1] \"SG_UF_RESIDENCIA\" \"NU_IDADE\"         \"TP_SEXO\"          \"TP_COR_RACA\"     \n",
       " [5] \"TP_NACIONALIDADE\" \"TP_ST_CONCLUSAO\"  \"TP_ANO_CONCLUIU\"  \"TP_ESCOLA\"       \n",
       " [9] \"IN_TREINEIRO\"     \"IN_BAIXA_VISAO\"   \"IN_SURDEZ\"        \"IN_SABATISTA\"    \n",
       "[13] \"IN_GESTANTE\"      \"NU_NOTA_CN\"       \"NU_NOTA_CH\"       \"NU_NOTA_LC\"      \n",
       "[17] \"TP_LINGUA\"        \"NU_NOTA_COMP1\"    \"NU_NOTA_COMP2\"    \"NU_NOTA_COMP3\"   \n",
       "[21] \"NU_NOTA_COMP4\"    \"NU_NOTA_COMP5\"    \"NU_NOTA_REDACAO\"  \"Q001\"            \n",
       "[25] \"Q002\"             \"Q006\"             \"Q024\"             \"Q025\"            \n",
       "[29] \"Q026\"             \"Q047\"            "
      ]
     },
     "metadata": {},
     "output_type": "display_data"
    }
   ],
   "source": [
    "variaveis"
   ]
  },
  {
   "cell_type": "markdown",
   "metadata": {},
   "source": [
    "*Selecionando na **baseTeste** apenas as variáveis utilizadas na **base**, que são as covariáveis usadas para ajustar o modelo de aprendizagem.*"
   ]
  },
  {
   "cell_type": "code",
   "execution_count": 26,
   "metadata": {},
   "outputs": [
    {
     "data": {
      "text/html": [
       "<ol class=list-inline>\n",
       "\t<li>4576</li>\n",
       "\t<li>47</li>\n",
       "</ol>\n"
      ],
      "text/latex": [
       "\\begin{enumerate*}\n",
       "\\item 4576\n",
       "\\item 47\n",
       "\\end{enumerate*}\n"
      ],
      "text/markdown": [
       "1. 4576\n",
       "2. 47\n",
       "\n",
       "\n"
      ],
      "text/plain": [
       "[1] 4576   47"
      ]
     },
     "metadata": {},
     "output_type": "display_data"
    },
    {
     "data": {
      "text/html": [
       "<ol class=list-inline>\n",
       "\t<li>4576</li>\n",
       "\t<li>30</li>\n",
       "</ol>\n"
      ],
      "text/latex": [
       "\\begin{enumerate*}\n",
       "\\item 4576\n",
       "\\item 30\n",
       "\\end{enumerate*}\n"
      ],
      "text/markdown": [
       "1. 4576\n",
       "2. 30\n",
       "\n",
       "\n"
      ],
      "text/plain": [
       "[1] 4576   30"
      ]
     },
     "metadata": {},
     "output_type": "display_data"
    }
   ],
   "source": [
    "dim(baseTeste)\n",
    "dadosTeste = baseTeste[variaveis]\n",
    "dim(dadosTeste)"
   ]
  },
  {
   "cell_type": "markdown",
   "metadata": {},
   "source": [
    "*Verificando nos **dadosTeste** a quantidade de valores faltantes NA's*.\n",
    "\n",
    "O comando abaixo apresenta a quantidade de NA's em ordem decrescente. Veja que temos 9 variáveis com altas quantidades de valores faltantes. Estas variáveis estão representando as notas das provas de cada área de estudo tais como Redação, Linguagens, Ciências da Natureza e Ciências Humanas."
   ]
  },
  {
   "cell_type": "code",
   "execution_count": 27,
   "metadata": {},
   "outputs": [
    {
     "data": {
      "text/html": [
       "<dl class=dl-horizontal>\n",
       "\t<dt>NU_NOTA_LC</dt>\n",
       "\t\t<dd>1199</dd>\n",
       "\t<dt>NU_NOTA_COMP1</dt>\n",
       "\t\t<dd>1199</dd>\n",
       "\t<dt>NU_NOTA_COMP2</dt>\n",
       "\t\t<dd>1199</dd>\n",
       "\t<dt>NU_NOTA_COMP3</dt>\n",
       "\t\t<dd>1199</dd>\n",
       "\t<dt>NU_NOTA_COMP4</dt>\n",
       "\t\t<dd>1199</dd>\n",
       "\t<dt>NU_NOTA_COMP5</dt>\n",
       "\t\t<dd>1199</dd>\n",
       "\t<dt>NU_NOTA_REDACAO</dt>\n",
       "\t\t<dd>1199</dd>\n",
       "\t<dt>NU_NOTA_CN</dt>\n",
       "\t\t<dd>1134</dd>\n",
       "\t<dt>NU_NOTA_CH</dt>\n",
       "\t\t<dd>1134</dd>\n",
       "\t<dt>SG_UF_RESIDENCIA</dt>\n",
       "\t\t<dd>0</dd>\n",
       "\t<dt>NU_IDADE</dt>\n",
       "\t\t<dd>0</dd>\n",
       "\t<dt>TP_SEXO</dt>\n",
       "\t\t<dd>0</dd>\n",
       "\t<dt>TP_COR_RACA</dt>\n",
       "\t\t<dd>0</dd>\n",
       "\t<dt>TP_NACIONALIDADE</dt>\n",
       "\t\t<dd>0</dd>\n",
       "\t<dt>TP_ST_CONCLUSAO</dt>\n",
       "\t\t<dd>0</dd>\n",
       "\t<dt>TP_ANO_CONCLUIU</dt>\n",
       "\t\t<dd>0</dd>\n",
       "\t<dt>TP_ESCOLA</dt>\n",
       "\t\t<dd>0</dd>\n",
       "\t<dt>IN_TREINEIRO</dt>\n",
       "\t\t<dd>0</dd>\n",
       "\t<dt>IN_BAIXA_VISAO</dt>\n",
       "\t\t<dd>0</dd>\n",
       "\t<dt>IN_SURDEZ</dt>\n",
       "\t\t<dd>0</dd>\n",
       "\t<dt>IN_SABATISTA</dt>\n",
       "\t\t<dd>0</dd>\n",
       "\t<dt>IN_GESTANTE</dt>\n",
       "\t\t<dd>0</dd>\n",
       "\t<dt>TP_LINGUA</dt>\n",
       "\t\t<dd>0</dd>\n",
       "\t<dt>Q001</dt>\n",
       "\t\t<dd>0</dd>\n",
       "\t<dt>Q002</dt>\n",
       "\t\t<dd>0</dd>\n",
       "\t<dt>Q006</dt>\n",
       "\t\t<dd>0</dd>\n",
       "\t<dt>Q024</dt>\n",
       "\t\t<dd>0</dd>\n",
       "\t<dt>Q025</dt>\n",
       "\t\t<dd>0</dd>\n",
       "\t<dt>Q026</dt>\n",
       "\t\t<dd>0</dd>\n",
       "\t<dt>Q047</dt>\n",
       "\t\t<dd>0</dd>\n",
       "</dl>\n"
      ],
      "text/latex": [
       "\\begin{description*}\n",
       "\\item[NU\\textbackslash{}\\_NOTA\\textbackslash{}\\_LC] 1199\n",
       "\\item[NU\\textbackslash{}\\_NOTA\\textbackslash{}\\_COMP1] 1199\n",
       "\\item[NU\\textbackslash{}\\_NOTA\\textbackslash{}\\_COMP2] 1199\n",
       "\\item[NU\\textbackslash{}\\_NOTA\\textbackslash{}\\_COMP3] 1199\n",
       "\\item[NU\\textbackslash{}\\_NOTA\\textbackslash{}\\_COMP4] 1199\n",
       "\\item[NU\\textbackslash{}\\_NOTA\\textbackslash{}\\_COMP5] 1199\n",
       "\\item[NU\\textbackslash{}\\_NOTA\\textbackslash{}\\_REDACAO] 1199\n",
       "\\item[NU\\textbackslash{}\\_NOTA\\textbackslash{}\\_CN] 1134\n",
       "\\item[NU\\textbackslash{}\\_NOTA\\textbackslash{}\\_CH] 1134\n",
       "\\item[SG\\textbackslash{}\\_UF\\textbackslash{}\\_RESIDENCIA] 0\n",
       "\\item[NU\\textbackslash{}\\_IDADE] 0\n",
       "\\item[TP\\textbackslash{}\\_SEXO] 0\n",
       "\\item[TP\\textbackslash{}\\_COR\\textbackslash{}\\_RACA] 0\n",
       "\\item[TP\\textbackslash{}\\_NACIONALIDADE] 0\n",
       "\\item[TP\\textbackslash{}\\_ST\\textbackslash{}\\_CONCLUSAO] 0\n",
       "\\item[TP\\textbackslash{}\\_ANO\\textbackslash{}\\_CONCLUIU] 0\n",
       "\\item[TP\\textbackslash{}\\_ESCOLA] 0\n",
       "\\item[IN\\textbackslash{}\\_TREINEIRO] 0\n",
       "\\item[IN\\textbackslash{}\\_BAIXA\\textbackslash{}\\_VISAO] 0\n",
       "\\item[IN\\textbackslash{}\\_SURDEZ] 0\n",
       "\\item[IN\\textbackslash{}\\_SABATISTA] 0\n",
       "\\item[IN\\textbackslash{}\\_GESTANTE] 0\n",
       "\\item[TP\\textbackslash{}\\_LINGUA] 0\n",
       "\\item[Q001] 0\n",
       "\\item[Q002] 0\n",
       "\\item[Q006] 0\n",
       "\\item[Q024] 0\n",
       "\\item[Q025] 0\n",
       "\\item[Q026] 0\n",
       "\\item[Q047] 0\n",
       "\\end{description*}\n"
      ],
      "text/markdown": [
       "NU_NOTA_LC\n",
       ":   1199NU_NOTA_COMP1\n",
       ":   1199NU_NOTA_COMP2\n",
       ":   1199NU_NOTA_COMP3\n",
       ":   1199NU_NOTA_COMP4\n",
       ":   1199NU_NOTA_COMP5\n",
       ":   1199NU_NOTA_REDACAO\n",
       ":   1199NU_NOTA_CN\n",
       ":   1134NU_NOTA_CH\n",
       ":   1134SG_UF_RESIDENCIA\n",
       ":   0NU_IDADE\n",
       ":   0TP_SEXO\n",
       ":   0TP_COR_RACA\n",
       ":   0TP_NACIONALIDADE\n",
       ":   0TP_ST_CONCLUSAO\n",
       ":   0TP_ANO_CONCLUIU\n",
       ":   0TP_ESCOLA\n",
       ":   0IN_TREINEIRO\n",
       ":   0IN_BAIXA_VISAO\n",
       ":   0IN_SURDEZ\n",
       ":   0IN_SABATISTA\n",
       ":   0IN_GESTANTE\n",
       ":   0TP_LINGUA\n",
       ":   0Q001\n",
       ":   0Q002\n",
       ":   0Q006\n",
       ":   0Q024\n",
       ":   0Q025\n",
       ":   0Q026\n",
       ":   0Q047\n",
       ":   0\n",
       "\n"
      ],
      "text/plain": [
       "      NU_NOTA_LC    NU_NOTA_COMP1    NU_NOTA_COMP2    NU_NOTA_COMP3 \n",
       "            1199             1199             1199             1199 \n",
       "   NU_NOTA_COMP4    NU_NOTA_COMP5  NU_NOTA_REDACAO       NU_NOTA_CN \n",
       "            1199             1199             1199             1134 \n",
       "      NU_NOTA_CH SG_UF_RESIDENCIA         NU_IDADE          TP_SEXO \n",
       "            1134                0                0                0 \n",
       "     TP_COR_RACA TP_NACIONALIDADE  TP_ST_CONCLUSAO  TP_ANO_CONCLUIU \n",
       "               0                0                0                0 \n",
       "       TP_ESCOLA     IN_TREINEIRO   IN_BAIXA_VISAO        IN_SURDEZ \n",
       "               0                0                0                0 \n",
       "    IN_SABATISTA      IN_GESTANTE        TP_LINGUA             Q001 \n",
       "               0                0                0                0 \n",
       "            Q002             Q006             Q024             Q025 \n",
       "               0                0                0                0 \n",
       "            Q026             Q047 \n",
       "               0                0 "
      ]
     },
     "metadata": {},
     "output_type": "display_data"
    }
   ],
   "source": [
    "sort(colSums(is.na(dadosTeste)),decreasing = TRUE)"
   ]
  },
  {
   "cell_type": "markdown",
   "metadata": {},
   "source": [
    "***Os comando abaixo substituem o valor NA por 0 (zero). Pois significa que o participante não compareceu para fazer todas as provas.***"
   ]
  },
  {
   "cell_type": "code",
   "execution_count": 28,
   "metadata": {},
   "outputs": [],
   "source": [
    "dadosTeste$NU_NOTA_LC = ifelse(is.na(dadosTeste$NU_NOTA_LC), 0 , dadosTeste$NU_NOTA_LC) \n",
    "dadosTeste$NU_NOTA_COMP1 = ifelse(is.na(dadosTeste$NU_NOTA_COMP1), 0 , dadosTeste$NU_NOTA_COMP1) \n",
    "dadosTeste$NU_NOTA_COMP2 = ifelse(is.na(dadosTeste$NU_NOTA_COMP2), 0 , dadosTeste$NU_NOTA_COMP2) \n",
    "dadosTeste$NU_NOTA_COMP3 = ifelse(is.na(dadosTeste$NU_NOTA_COMP3), 0 , dadosTeste$NU_NOTA_COMP3) \n",
    "dadosTeste$NU_NOTA_COMP4 = ifelse(is.na(dadosTeste$NU_NOTA_COMP4), 0 , dadosTeste$NU_NOTA_COMP4) \n",
    "dadosTeste$NU_NOTA_COMP5 = ifelse(is.na(dadosTeste$NU_NOTA_COMP5), 0 , dadosTeste$NU_NOTA_COMP5) \n",
    "dadosTeste$NU_NOTA_REDACAO = ifelse(is.na(dadosTeste$NU_NOTA_REDACAO), 0 , dadosTeste$NU_NOTA_REDACAO) \n",
    "dadosTeste$NU_NOTA_CN = ifelse(is.na(dadosTeste$NU_NOTA_CN), 0 , dadosTeste$NU_NOTA_CN) \n",
    "dadosTeste$NU_NOTA_CH = ifelse(is.na(dadosTeste$NU_NOTA_CH), 0 , dadosTeste$NU_NOTA_CH) "
   ]
  },
  {
   "cell_type": "code",
   "execution_count": 29,
   "metadata": {},
   "outputs": [
    {
     "data": {
      "text/html": [
       "<dl class=dl-horizontal>\n",
       "\t<dt>SG_UF_RESIDENCIA</dt>\n",
       "\t\t<dd>0</dd>\n",
       "\t<dt>NU_IDADE</dt>\n",
       "\t\t<dd>0</dd>\n",
       "\t<dt>TP_SEXO</dt>\n",
       "\t\t<dd>0</dd>\n",
       "\t<dt>TP_COR_RACA</dt>\n",
       "\t\t<dd>0</dd>\n",
       "\t<dt>TP_NACIONALIDADE</dt>\n",
       "\t\t<dd>0</dd>\n",
       "\t<dt>TP_ST_CONCLUSAO</dt>\n",
       "\t\t<dd>0</dd>\n",
       "\t<dt>TP_ANO_CONCLUIU</dt>\n",
       "\t\t<dd>0</dd>\n",
       "\t<dt>TP_ESCOLA</dt>\n",
       "\t\t<dd>0</dd>\n",
       "\t<dt>IN_TREINEIRO</dt>\n",
       "\t\t<dd>0</dd>\n",
       "\t<dt>IN_BAIXA_VISAO</dt>\n",
       "\t\t<dd>0</dd>\n",
       "\t<dt>IN_SURDEZ</dt>\n",
       "\t\t<dd>0</dd>\n",
       "\t<dt>IN_SABATISTA</dt>\n",
       "\t\t<dd>0</dd>\n",
       "\t<dt>IN_GESTANTE</dt>\n",
       "\t\t<dd>0</dd>\n",
       "\t<dt>NU_NOTA_CN</dt>\n",
       "\t\t<dd>0</dd>\n",
       "\t<dt>NU_NOTA_CH</dt>\n",
       "\t\t<dd>0</dd>\n",
       "\t<dt>NU_NOTA_LC</dt>\n",
       "\t\t<dd>0</dd>\n",
       "\t<dt>TP_LINGUA</dt>\n",
       "\t\t<dd>0</dd>\n",
       "\t<dt>NU_NOTA_COMP1</dt>\n",
       "\t\t<dd>0</dd>\n",
       "\t<dt>NU_NOTA_COMP2</dt>\n",
       "\t\t<dd>0</dd>\n",
       "\t<dt>NU_NOTA_COMP3</dt>\n",
       "\t\t<dd>0</dd>\n",
       "\t<dt>NU_NOTA_COMP4</dt>\n",
       "\t\t<dd>0</dd>\n",
       "\t<dt>NU_NOTA_COMP5</dt>\n",
       "\t\t<dd>0</dd>\n",
       "\t<dt>NU_NOTA_REDACAO</dt>\n",
       "\t\t<dd>0</dd>\n",
       "\t<dt>Q001</dt>\n",
       "\t\t<dd>0</dd>\n",
       "\t<dt>Q002</dt>\n",
       "\t\t<dd>0</dd>\n",
       "\t<dt>Q006</dt>\n",
       "\t\t<dd>0</dd>\n",
       "\t<dt>Q024</dt>\n",
       "\t\t<dd>0</dd>\n",
       "\t<dt>Q025</dt>\n",
       "\t\t<dd>0</dd>\n",
       "\t<dt>Q026</dt>\n",
       "\t\t<dd>0</dd>\n",
       "\t<dt>Q047</dt>\n",
       "\t\t<dd>0</dd>\n",
       "</dl>\n"
      ],
      "text/latex": [
       "\\begin{description*}\n",
       "\\item[SG\\textbackslash{}\\_UF\\textbackslash{}\\_RESIDENCIA] 0\n",
       "\\item[NU\\textbackslash{}\\_IDADE] 0\n",
       "\\item[TP\\textbackslash{}\\_SEXO] 0\n",
       "\\item[TP\\textbackslash{}\\_COR\\textbackslash{}\\_RACA] 0\n",
       "\\item[TP\\textbackslash{}\\_NACIONALIDADE] 0\n",
       "\\item[TP\\textbackslash{}\\_ST\\textbackslash{}\\_CONCLUSAO] 0\n",
       "\\item[TP\\textbackslash{}\\_ANO\\textbackslash{}\\_CONCLUIU] 0\n",
       "\\item[TP\\textbackslash{}\\_ESCOLA] 0\n",
       "\\item[IN\\textbackslash{}\\_TREINEIRO] 0\n",
       "\\item[IN\\textbackslash{}\\_BAIXA\\textbackslash{}\\_VISAO] 0\n",
       "\\item[IN\\textbackslash{}\\_SURDEZ] 0\n",
       "\\item[IN\\textbackslash{}\\_SABATISTA] 0\n",
       "\\item[IN\\textbackslash{}\\_GESTANTE] 0\n",
       "\\item[NU\\textbackslash{}\\_NOTA\\textbackslash{}\\_CN] 0\n",
       "\\item[NU\\textbackslash{}\\_NOTA\\textbackslash{}\\_CH] 0\n",
       "\\item[NU\\textbackslash{}\\_NOTA\\textbackslash{}\\_LC] 0\n",
       "\\item[TP\\textbackslash{}\\_LINGUA] 0\n",
       "\\item[NU\\textbackslash{}\\_NOTA\\textbackslash{}\\_COMP1] 0\n",
       "\\item[NU\\textbackslash{}\\_NOTA\\textbackslash{}\\_COMP2] 0\n",
       "\\item[NU\\textbackslash{}\\_NOTA\\textbackslash{}\\_COMP3] 0\n",
       "\\item[NU\\textbackslash{}\\_NOTA\\textbackslash{}\\_COMP4] 0\n",
       "\\item[NU\\textbackslash{}\\_NOTA\\textbackslash{}\\_COMP5] 0\n",
       "\\item[NU\\textbackslash{}\\_NOTA\\textbackslash{}\\_REDACAO] 0\n",
       "\\item[Q001] 0\n",
       "\\item[Q002] 0\n",
       "\\item[Q006] 0\n",
       "\\item[Q024] 0\n",
       "\\item[Q025] 0\n",
       "\\item[Q026] 0\n",
       "\\item[Q047] 0\n",
       "\\end{description*}\n"
      ],
      "text/markdown": [
       "SG_UF_RESIDENCIA\n",
       ":   0NU_IDADE\n",
       ":   0TP_SEXO\n",
       ":   0TP_COR_RACA\n",
       ":   0TP_NACIONALIDADE\n",
       ":   0TP_ST_CONCLUSAO\n",
       ":   0TP_ANO_CONCLUIU\n",
       ":   0TP_ESCOLA\n",
       ":   0IN_TREINEIRO\n",
       ":   0IN_BAIXA_VISAO\n",
       ":   0IN_SURDEZ\n",
       ":   0IN_SABATISTA\n",
       ":   0IN_GESTANTE\n",
       ":   0NU_NOTA_CN\n",
       ":   0NU_NOTA_CH\n",
       ":   0NU_NOTA_LC\n",
       ":   0TP_LINGUA\n",
       ":   0NU_NOTA_COMP1\n",
       ":   0NU_NOTA_COMP2\n",
       ":   0NU_NOTA_COMP3\n",
       ":   0NU_NOTA_COMP4\n",
       ":   0NU_NOTA_COMP5\n",
       ":   0NU_NOTA_REDACAO\n",
       ":   0Q001\n",
       ":   0Q002\n",
       ":   0Q006\n",
       ":   0Q024\n",
       ":   0Q025\n",
       ":   0Q026\n",
       ":   0Q047\n",
       ":   0\n",
       "\n"
      ],
      "text/plain": [
       "SG_UF_RESIDENCIA         NU_IDADE          TP_SEXO      TP_COR_RACA \n",
       "               0                0                0                0 \n",
       "TP_NACIONALIDADE  TP_ST_CONCLUSAO  TP_ANO_CONCLUIU        TP_ESCOLA \n",
       "               0                0                0                0 \n",
       "    IN_TREINEIRO   IN_BAIXA_VISAO        IN_SURDEZ     IN_SABATISTA \n",
       "               0                0                0                0 \n",
       "     IN_GESTANTE       NU_NOTA_CN       NU_NOTA_CH       NU_NOTA_LC \n",
       "               0                0                0                0 \n",
       "       TP_LINGUA    NU_NOTA_COMP1    NU_NOTA_COMP2    NU_NOTA_COMP3 \n",
       "               0                0                0                0 \n",
       "   NU_NOTA_COMP4    NU_NOTA_COMP5  NU_NOTA_REDACAO             Q001 \n",
       "               0                0                0                0 \n",
       "            Q002             Q006             Q024             Q025 \n",
       "               0                0                0                0 \n",
       "            Q026             Q047 \n",
       "               0                0 "
      ]
     },
     "metadata": {},
     "output_type": "display_data"
    }
   ],
   "source": [
    "sort(colSums(is.na(dadosTeste)),decreasing = TRUE)"
   ]
  },
  {
   "cell_type": "markdown",
   "metadata": {},
   "source": [
    "***Convertendo as variáveis categóricas para o tipo fator.***"
   ]
  },
  {
   "cell_type": "code",
   "execution_count": 30,
   "metadata": {},
   "outputs": [],
   "source": [
    "dadosTeste$SG_UF_RESIDENCIA = as.factor(dadosTeste$SG_UF_RESIDENCIA)\n",
    "dadosTeste$TP_COR_RACA = as.factor(dadosTeste$TP_COR_RACA)\n",
    "dadosTeste$TP_NACIONALIDADE = as.factor(dadosTeste$TP_NACIONALIDADE)\n",
    "dadosTeste$TP_ST_CONCLUSAO = as.factor(dadosTeste$TP_ST_CONCLUSAO)\n",
    "dadosTeste$TP_ANO_CONCLUIU = as.factor(dadosTeste$TP_ANO_CONCLUIU)\n",
    "dadosTeste$TP_ESCOLA = as.factor(dadosTeste$TP_ESCOLA)\n",
    "dadosTeste$IN_TREINEIRO = as.factor(dadosTeste$IN_TREINEIRO)\n",
    "dadosTeste$IN_BAIXA_VISAO = as.factor(dadosTeste$IN_BAIXA_VISAO)\n",
    "dadosTeste$IN_SURDEZ = as.factor(dadosTeste$IN_SURDEZ)\n",
    "dadosTeste$IN_SABATISTA = as.factor(dadosTeste$IN_SABATISTA)\n",
    "dadosTeste$IN_GESTANTE = as.factor(dadosTeste$IN_GESTANTE)\n",
    "dadosTeste$TP_LINGUA = as.factor(dadosTeste$TP_LINGUA)\n"
   ]
  },
  {
   "cell_type": "markdown",
   "metadata": {},
   "source": [
    "## Obtendo as previsões"
   ]
  },
  {
   "cell_type": "code",
   "execution_count": 31,
   "metadata": {},
   "outputs": [],
   "source": [
    "previsoes = predict(regressor, newdata = dadosTeste)"
   ]
  },
  {
   "cell_type": "markdown",
   "metadata": {},
   "source": [
    "***Criando um objeto com o Número de Inscrição, Nota de Ciências da Natureza e Previsões da Nota de Matemática***"
   ]
  },
  {
   "cell_type": "code",
   "execution_count": 32,
   "metadata": {},
   "outputs": [],
   "source": [
    "notas = cbind(baseTeste[1], dadosTeste$NU_NOTA_CN , previsoes)"
   ]
  },
  {
   "cell_type": "code",
   "execution_count": 33,
   "metadata": {},
   "outputs": [
    {
     "data": {
      "text/html": [
       "<table>\n",
       "<thead><tr><th scope=col>NU_INSCRICAO</th><th scope=col>dadosTeste$NU_NOTA_CN</th><th scope=col>previsoes</th></tr></thead>\n",
       "<tbody>\n",
       "\t<tr><td>73ff9fcc02f0a99919906c942c2e1a1042cdcf98</td><td>464.8                                   </td><td>437.0905                                </td></tr>\n",
       "\t<tr><td>71a95f9f1b91a82c65ad94abbdf9f54e6066f968</td><td>391.1                                   </td><td>447.0095                                </td></tr>\n",
       "\t<tr><td>b38a03232f43b11c9d0788abaf060f7366053b6d</td><td>595.9                                   </td><td>570.0676                                </td></tr>\n",
       "\t<tr><td>70b682d9a3636be23f6120fa9d6b164eb3c6002d</td><td>  0.0                                   </td><td>169.2071                                </td></tr>\n",
       "\t<tr><td>715494628a50142ce8cb17191cfe6d0f3cae0934</td><td>592.9                                   </td><td>542.3677                                </td></tr>\n",
       "\t<tr><td>e656d6bad65c93fb2880f1eba5037008c8e75774</td><td>414.5                                   </td><td>479.1597                                </td></tr>\n",
       "</tbody>\n",
       "</table>\n"
      ],
      "text/latex": [
       "\\begin{tabular}{r|lll}\n",
       " NU\\_INSCRICAO & dadosTeste\\$NU\\_NOTA\\_CN & previsoes\\\\\n",
       "\\hline\n",
       "\t 73ff9fcc02f0a99919906c942c2e1a1042cdcf98 & 464.8                                    & 437.0905                                \\\\\n",
       "\t 71a95f9f1b91a82c65ad94abbdf9f54e6066f968 & 391.1                                    & 447.0095                                \\\\\n",
       "\t b38a03232f43b11c9d0788abaf060f7366053b6d & 595.9                                    & 570.0676                                \\\\\n",
       "\t 70b682d9a3636be23f6120fa9d6b164eb3c6002d &   0.0                                    & 169.2071                                \\\\\n",
       "\t 715494628a50142ce8cb17191cfe6d0f3cae0934 & 592.9                                    & 542.3677                                \\\\\n",
       "\t e656d6bad65c93fb2880f1eba5037008c8e75774 & 414.5                                    & 479.1597                                \\\\\n",
       "\\end{tabular}\n"
      ],
      "text/markdown": [
       "\n",
       "| NU_INSCRICAO | dadosTeste$NU_NOTA_CN | previsoes |\n",
       "|---|---|---|\n",
       "| 73ff9fcc02f0a99919906c942c2e1a1042cdcf98 | 464.8                                    | 437.0905                                 |\n",
       "| 71a95f9f1b91a82c65ad94abbdf9f54e6066f968 | 391.1                                    | 447.0095                                 |\n",
       "| b38a03232f43b11c9d0788abaf060f7366053b6d | 595.9                                    | 570.0676                                 |\n",
       "| 70b682d9a3636be23f6120fa9d6b164eb3c6002d |   0.0                                    | 169.2071                                 |\n",
       "| 715494628a50142ce8cb17191cfe6d0f3cae0934 | 592.9                                    | 542.3677                                 |\n",
       "| e656d6bad65c93fb2880f1eba5037008c8e75774 | 414.5                                    | 479.1597                                 |\n",
       "\n"
      ],
      "text/plain": [
       "  NU_INSCRICAO                             dadosTeste$NU_NOTA_CN previsoes\n",
       "1 73ff9fcc02f0a99919906c942c2e1a1042cdcf98 464.8                 437.0905 \n",
       "2 71a95f9f1b91a82c65ad94abbdf9f54e6066f968 391.1                 447.0095 \n",
       "3 b38a03232f43b11c9d0788abaf060f7366053b6d 595.9                 570.0676 \n",
       "4 70b682d9a3636be23f6120fa9d6b164eb3c6002d   0.0                 169.2071 \n",
       "5 715494628a50142ce8cb17191cfe6d0f3cae0934 592.9                 542.3677 \n",
       "6 e656d6bad65c93fb2880f1eba5037008c8e75774 414.5                 479.1597 "
      ]
     },
     "metadata": {},
     "output_type": "display_data"
    }
   ],
   "source": [
    "head(notas)"
   ]
  },
  {
   "cell_type": "markdown",
   "metadata": {},
   "source": [
    "_Alterando o nome **'dadosTeste$NU_NOTA_CN'** para **'NU_NOTA_CN'**_"
   ]
  },
  {
   "cell_type": "code",
   "execution_count": 34,
   "metadata": {},
   "outputs": [
    {
     "data": {
      "text/html": [
       "<table>\n",
       "<thead><tr><th scope=col>NU_INSCRICAO</th><th scope=col>NU_NOTA_CN</th><th scope=col>previsoes</th></tr></thead>\n",
       "<tbody>\n",
       "\t<tr><td>73ff9fcc02f0a99919906c942c2e1a1042cdcf98</td><td>464.8                                   </td><td>437.0905                                </td></tr>\n",
       "\t<tr><td>71a95f9f1b91a82c65ad94abbdf9f54e6066f968</td><td>391.1                                   </td><td>447.0095                                </td></tr>\n",
       "\t<tr><td>b38a03232f43b11c9d0788abaf060f7366053b6d</td><td>595.9                                   </td><td>570.0676                                </td></tr>\n",
       "\t<tr><td>70b682d9a3636be23f6120fa9d6b164eb3c6002d</td><td>  0.0                                   </td><td>169.2071                                </td></tr>\n",
       "\t<tr><td>715494628a50142ce8cb17191cfe6d0f3cae0934</td><td>592.9                                   </td><td>542.3677                                </td></tr>\n",
       "\t<tr><td>e656d6bad65c93fb2880f1eba5037008c8e75774</td><td>414.5                                   </td><td>479.1597                                </td></tr>\n",
       "</tbody>\n",
       "</table>\n"
      ],
      "text/latex": [
       "\\begin{tabular}{r|lll}\n",
       " NU\\_INSCRICAO & NU\\_NOTA\\_CN & previsoes\\\\\n",
       "\\hline\n",
       "\t 73ff9fcc02f0a99919906c942c2e1a1042cdcf98 & 464.8                                    & 437.0905                                \\\\\n",
       "\t 71a95f9f1b91a82c65ad94abbdf9f54e6066f968 & 391.1                                    & 447.0095                                \\\\\n",
       "\t b38a03232f43b11c9d0788abaf060f7366053b6d & 595.9                                    & 570.0676                                \\\\\n",
       "\t 70b682d9a3636be23f6120fa9d6b164eb3c6002d &   0.0                                    & 169.2071                                \\\\\n",
       "\t 715494628a50142ce8cb17191cfe6d0f3cae0934 & 592.9                                    & 542.3677                                \\\\\n",
       "\t e656d6bad65c93fb2880f1eba5037008c8e75774 & 414.5                                    & 479.1597                                \\\\\n",
       "\\end{tabular}\n"
      ],
      "text/markdown": [
       "\n",
       "| NU_INSCRICAO | NU_NOTA_CN | previsoes |\n",
       "|---|---|---|\n",
       "| 73ff9fcc02f0a99919906c942c2e1a1042cdcf98 | 464.8                                    | 437.0905                                 |\n",
       "| 71a95f9f1b91a82c65ad94abbdf9f54e6066f968 | 391.1                                    | 447.0095                                 |\n",
       "| b38a03232f43b11c9d0788abaf060f7366053b6d | 595.9                                    | 570.0676                                 |\n",
       "| 70b682d9a3636be23f6120fa9d6b164eb3c6002d |   0.0                                    | 169.2071                                 |\n",
       "| 715494628a50142ce8cb17191cfe6d0f3cae0934 | 592.9                                    | 542.3677                                 |\n",
       "| e656d6bad65c93fb2880f1eba5037008c8e75774 | 414.5                                    | 479.1597                                 |\n",
       "\n"
      ],
      "text/plain": [
       "  NU_INSCRICAO                             NU_NOTA_CN previsoes\n",
       "1 73ff9fcc02f0a99919906c942c2e1a1042cdcf98 464.8      437.0905 \n",
       "2 71a95f9f1b91a82c65ad94abbdf9f54e6066f968 391.1      447.0095 \n",
       "3 b38a03232f43b11c9d0788abaf060f7366053b6d 595.9      570.0676 \n",
       "4 70b682d9a3636be23f6120fa9d6b164eb3c6002d   0.0      169.2071 \n",
       "5 715494628a50142ce8cb17191cfe6d0f3cae0934 592.9      542.3677 \n",
       "6 e656d6bad65c93fb2880f1eba5037008c8e75774 414.5      479.1597 "
      ]
     },
     "metadata": {},
     "output_type": "display_data"
    }
   ],
   "source": [
    "names(notas)[2] = \"NU_NOTA_CN\"\n",
    "head(notas)"
   ]
  },
  {
   "cell_type": "markdown",
   "metadata": {},
   "source": [
    "_No objeto **notas** verificamos na coluna **'NU_NOTA_CN'** que algumas linhas estão com **nota 0 (zero)**. Isso quer dizer que o participante não compareceu para fazer as provas. Portanto, **se a nota do participante é 0 na prova de Ciências da Natureza então a previsão de sua nota de Matemática também é 0**. Neste caso, **iremos substituir o valor da previsão da nota de Matemática por NA**. O comando abaixo faz essa correçao nas previsões._"
   ]
  },
  {
   "cell_type": "code",
   "execution_count": 35,
   "metadata": {},
   "outputs": [],
   "source": [
    "for (i in 1:nrow(notas)) {\n",
    "  if(notas$NU_NOTA_CN[i]==0){ notas$previsoes[i] = NA }\n",
    "}"
   ]
  },
  {
   "cell_type": "code",
   "execution_count": 36,
   "metadata": {
    "scrolled": true
   },
   "outputs": [
    {
     "data": {
      "text/html": [
       "<table>\n",
       "<thead><tr><th scope=col>NU_INSCRICAO</th><th scope=col>NU_NOTA_CN</th><th scope=col>previsoes</th></tr></thead>\n",
       "<tbody>\n",
       "\t<tr><td>73ff9fcc02f0a99919906c942c2e1a1042cdcf98</td><td>464.8                                   </td><td>437.0905                                </td></tr>\n",
       "\t<tr><td>71a95f9f1b91a82c65ad94abbdf9f54e6066f968</td><td>391.1                                   </td><td>447.0095                                </td></tr>\n",
       "\t<tr><td>b38a03232f43b11c9d0788abaf060f7366053b6d</td><td>595.9                                   </td><td>570.0676                                </td></tr>\n",
       "\t<tr><td>70b682d9a3636be23f6120fa9d6b164eb3c6002d</td><td>  0.0                                   </td><td>      NA                                </td></tr>\n",
       "\t<tr><td>715494628a50142ce8cb17191cfe6d0f3cae0934</td><td>592.9                                   </td><td>542.3677                                </td></tr>\n",
       "\t<tr><td>e656d6bad65c93fb2880f1eba5037008c8e75774</td><td>414.5                                   </td><td>479.1597                                </td></tr>\n",
       "</tbody>\n",
       "</table>\n"
      ],
      "text/latex": [
       "\\begin{tabular}{r|lll}\n",
       " NU\\_INSCRICAO & NU\\_NOTA\\_CN & previsoes\\\\\n",
       "\\hline\n",
       "\t 73ff9fcc02f0a99919906c942c2e1a1042cdcf98 & 464.8                                    & 437.0905                                \\\\\n",
       "\t 71a95f9f1b91a82c65ad94abbdf9f54e6066f968 & 391.1                                    & 447.0095                                \\\\\n",
       "\t b38a03232f43b11c9d0788abaf060f7366053b6d & 595.9                                    & 570.0676                                \\\\\n",
       "\t 70b682d9a3636be23f6120fa9d6b164eb3c6002d &   0.0                                    &       NA                                \\\\\n",
       "\t 715494628a50142ce8cb17191cfe6d0f3cae0934 & 592.9                                    & 542.3677                                \\\\\n",
       "\t e656d6bad65c93fb2880f1eba5037008c8e75774 & 414.5                                    & 479.1597                                \\\\\n",
       "\\end{tabular}\n"
      ],
      "text/markdown": [
       "\n",
       "| NU_INSCRICAO | NU_NOTA_CN | previsoes |\n",
       "|---|---|---|\n",
       "| 73ff9fcc02f0a99919906c942c2e1a1042cdcf98 | 464.8                                    | 437.0905                                 |\n",
       "| 71a95f9f1b91a82c65ad94abbdf9f54e6066f968 | 391.1                                    | 447.0095                                 |\n",
       "| b38a03232f43b11c9d0788abaf060f7366053b6d | 595.9                                    | 570.0676                                 |\n",
       "| 70b682d9a3636be23f6120fa9d6b164eb3c6002d |   0.0                                    |       NA                                 |\n",
       "| 715494628a50142ce8cb17191cfe6d0f3cae0934 | 592.9                                    | 542.3677                                 |\n",
       "| e656d6bad65c93fb2880f1eba5037008c8e75774 | 414.5                                    | 479.1597                                 |\n",
       "\n"
      ],
      "text/plain": [
       "  NU_INSCRICAO                             NU_NOTA_CN previsoes\n",
       "1 73ff9fcc02f0a99919906c942c2e1a1042cdcf98 464.8      437.0905 \n",
       "2 71a95f9f1b91a82c65ad94abbdf9f54e6066f968 391.1      447.0095 \n",
       "3 b38a03232f43b11c9d0788abaf060f7366053b6d 595.9      570.0676 \n",
       "4 70b682d9a3636be23f6120fa9d6b164eb3c6002d   0.0            NA \n",
       "5 715494628a50142ce8cb17191cfe6d0f3cae0934 592.9      542.3677 \n",
       "6 e656d6bad65c93fb2880f1eba5037008c8e75774 414.5      479.1597 "
      ]
     },
     "metadata": {},
     "output_type": "display_data"
    }
   ],
   "source": [
    "head(notas)"
   ]
  },
  {
   "cell_type": "markdown",
   "metadata": {},
   "source": [
    "***Removendo a coluna 'NU_NOTA_CN'***"
   ]
  },
  {
   "cell_type": "code",
   "execution_count": 37,
   "metadata": {},
   "outputs": [
    {
     "data": {
      "text/html": [
       "<table>\n",
       "<thead><tr><th scope=col>NU_INSCRICAO</th><th scope=col>previsoes</th></tr></thead>\n",
       "<tbody>\n",
       "\t<tr><td>73ff9fcc02f0a99919906c942c2e1a1042cdcf98</td><td>437.0905                                </td></tr>\n",
       "\t<tr><td>71a95f9f1b91a82c65ad94abbdf9f54e6066f968</td><td>447.0095                                </td></tr>\n",
       "\t<tr><td>b38a03232f43b11c9d0788abaf060f7366053b6d</td><td>570.0676                                </td></tr>\n",
       "\t<tr><td>70b682d9a3636be23f6120fa9d6b164eb3c6002d</td><td>      NA                                </td></tr>\n",
       "\t<tr><td>715494628a50142ce8cb17191cfe6d0f3cae0934</td><td>542.3677                                </td></tr>\n",
       "\t<tr><td>e656d6bad65c93fb2880f1eba5037008c8e75774</td><td>479.1597                                </td></tr>\n",
       "</tbody>\n",
       "</table>\n"
      ],
      "text/latex": [
       "\\begin{tabular}{r|ll}\n",
       " NU\\_INSCRICAO & previsoes\\\\\n",
       "\\hline\n",
       "\t 73ff9fcc02f0a99919906c942c2e1a1042cdcf98 & 437.0905                                \\\\\n",
       "\t 71a95f9f1b91a82c65ad94abbdf9f54e6066f968 & 447.0095                                \\\\\n",
       "\t b38a03232f43b11c9d0788abaf060f7366053b6d & 570.0676                                \\\\\n",
       "\t 70b682d9a3636be23f6120fa9d6b164eb3c6002d &       NA                                \\\\\n",
       "\t 715494628a50142ce8cb17191cfe6d0f3cae0934 & 542.3677                                \\\\\n",
       "\t e656d6bad65c93fb2880f1eba5037008c8e75774 & 479.1597                                \\\\\n",
       "\\end{tabular}\n"
      ],
      "text/markdown": [
       "\n",
       "| NU_INSCRICAO | previsoes |\n",
       "|---|---|\n",
       "| 73ff9fcc02f0a99919906c942c2e1a1042cdcf98 | 437.0905                                 |\n",
       "| 71a95f9f1b91a82c65ad94abbdf9f54e6066f968 | 447.0095                                 |\n",
       "| b38a03232f43b11c9d0788abaf060f7366053b6d | 570.0676                                 |\n",
       "| 70b682d9a3636be23f6120fa9d6b164eb3c6002d |       NA                                 |\n",
       "| 715494628a50142ce8cb17191cfe6d0f3cae0934 | 542.3677                                 |\n",
       "| e656d6bad65c93fb2880f1eba5037008c8e75774 | 479.1597                                 |\n",
       "\n"
      ],
      "text/plain": [
       "  NU_INSCRICAO                             previsoes\n",
       "1 73ff9fcc02f0a99919906c942c2e1a1042cdcf98 437.0905 \n",
       "2 71a95f9f1b91a82c65ad94abbdf9f54e6066f968 447.0095 \n",
       "3 b38a03232f43b11c9d0788abaf060f7366053b6d 570.0676 \n",
       "4 70b682d9a3636be23f6120fa9d6b164eb3c6002d       NA \n",
       "5 715494628a50142ce8cb17191cfe6d0f3cae0934 542.3677 \n",
       "6 e656d6bad65c93fb2880f1eba5037008c8e75774 479.1597 "
      ]
     },
     "metadata": {},
     "output_type": "display_data"
    }
   ],
   "source": [
    "notas$NU_NOTA_CN=NULL\n",
    "head(notas)"
   ]
  },
  {
   "cell_type": "markdown",
   "metadata": {},
   "source": [
    "***Criando o objeto 'answer'***"
   ]
  },
  {
   "cell_type": "code",
   "execution_count": 38,
   "metadata": {},
   "outputs": [],
   "source": [
    "answer = notas"
   ]
  },
  {
   "cell_type": "markdown",
   "metadata": {},
   "source": [
    "***Trocando o nome 'previsoes' por 'NU_NOTA_MT'***"
   ]
  },
  {
   "cell_type": "code",
   "execution_count": 39,
   "metadata": {},
   "outputs": [
    {
     "data": {
      "text/html": [
       "<table>\n",
       "<thead><tr><th scope=col>NU_INSCRICAO</th><th scope=col>NU_NOTA_MT</th></tr></thead>\n",
       "<tbody>\n",
       "\t<tr><td>73ff9fcc02f0a99919906c942c2e1a1042cdcf98</td><td>437.0905                                </td></tr>\n",
       "\t<tr><td>71a95f9f1b91a82c65ad94abbdf9f54e6066f968</td><td>447.0095                                </td></tr>\n",
       "\t<tr><td>b38a03232f43b11c9d0788abaf060f7366053b6d</td><td>570.0676                                </td></tr>\n",
       "\t<tr><td>70b682d9a3636be23f6120fa9d6b164eb3c6002d</td><td>      NA                                </td></tr>\n",
       "\t<tr><td>715494628a50142ce8cb17191cfe6d0f3cae0934</td><td>542.3677                                </td></tr>\n",
       "\t<tr><td>e656d6bad65c93fb2880f1eba5037008c8e75774</td><td>479.1597                                </td></tr>\n",
       "</tbody>\n",
       "</table>\n"
      ],
      "text/latex": [
       "\\begin{tabular}{r|ll}\n",
       " NU\\_INSCRICAO & NU\\_NOTA\\_MT\\\\\n",
       "\\hline\n",
       "\t 73ff9fcc02f0a99919906c942c2e1a1042cdcf98 & 437.0905                                \\\\\n",
       "\t 71a95f9f1b91a82c65ad94abbdf9f54e6066f968 & 447.0095                                \\\\\n",
       "\t b38a03232f43b11c9d0788abaf060f7366053b6d & 570.0676                                \\\\\n",
       "\t 70b682d9a3636be23f6120fa9d6b164eb3c6002d &       NA                                \\\\\n",
       "\t 715494628a50142ce8cb17191cfe6d0f3cae0934 & 542.3677                                \\\\\n",
       "\t e656d6bad65c93fb2880f1eba5037008c8e75774 & 479.1597                                \\\\\n",
       "\\end{tabular}\n"
      ],
      "text/markdown": [
       "\n",
       "| NU_INSCRICAO | NU_NOTA_MT |\n",
       "|---|---|\n",
       "| 73ff9fcc02f0a99919906c942c2e1a1042cdcf98 | 437.0905                                 |\n",
       "| 71a95f9f1b91a82c65ad94abbdf9f54e6066f968 | 447.0095                                 |\n",
       "| b38a03232f43b11c9d0788abaf060f7366053b6d | 570.0676                                 |\n",
       "| 70b682d9a3636be23f6120fa9d6b164eb3c6002d |       NA                                 |\n",
       "| 715494628a50142ce8cb17191cfe6d0f3cae0934 | 542.3677                                 |\n",
       "| e656d6bad65c93fb2880f1eba5037008c8e75774 | 479.1597                                 |\n",
       "\n"
      ],
      "text/plain": [
       "  NU_INSCRICAO                             NU_NOTA_MT\n",
       "1 73ff9fcc02f0a99919906c942c2e1a1042cdcf98 437.0905  \n",
       "2 71a95f9f1b91a82c65ad94abbdf9f54e6066f968 447.0095  \n",
       "3 b38a03232f43b11c9d0788abaf060f7366053b6d 570.0676  \n",
       "4 70b682d9a3636be23f6120fa9d6b164eb3c6002d       NA  \n",
       "5 715494628a50142ce8cb17191cfe6d0f3cae0934 542.3677  \n",
       "6 e656d6bad65c93fb2880f1eba5037008c8e75774 479.1597  "
      ]
     },
     "metadata": {},
     "output_type": "display_data"
    }
   ],
   "source": [
    "names(answer)[2] = \"NU_NOTA_MT\"\n",
    "head(answer)"
   ]
  },
  {
   "cell_type": "markdown",
   "metadata": {},
   "source": [
    "## Criando um arquivo CSV com a solução do desafio"
   ]
  },
  {
   "cell_type": "code",
   "execution_count": 40,
   "metadata": {},
   "outputs": [],
   "source": [
    "write.table(answer, file = \"answer.csv\", row.names = FALSE, sep = \",\")"
   ]
  },
  {
   "cell_type": "markdown",
   "metadata": {},
   "source": [
    "**Fazendo a Leitura do arquivo ('answer.csv') que contem a solução do desavio.**"
   ]
  },
  {
   "cell_type": "code",
   "execution_count": 41,
   "metadata": {},
   "outputs": [],
   "source": [
    "tes = read.csv(\"answer.csv\")"
   ]
  },
  {
   "cell_type": "markdown",
   "metadata": {},
   "source": [
    "***Verificando as primeiras Linhas do arquivo***"
   ]
  },
  {
   "cell_type": "code",
   "execution_count": 42,
   "metadata": {},
   "outputs": [
    {
     "data": {
      "text/html": [
       "<table>\n",
       "<thead><tr><th scope=col>NU_INSCRICAO</th><th scope=col>NU_NOTA_MT</th></tr></thead>\n",
       "<tbody>\n",
       "\t<tr><td>73ff9fcc02f0a99919906c942c2e1a1042cdcf98</td><td>437.0905                                </td></tr>\n",
       "\t<tr><td>71a95f9f1b91a82c65ad94abbdf9f54e6066f968</td><td>447.0095                                </td></tr>\n",
       "\t<tr><td>b38a03232f43b11c9d0788abaf060f7366053b6d</td><td>570.0676                                </td></tr>\n",
       "\t<tr><td>70b682d9a3636be23f6120fa9d6b164eb3c6002d</td><td>      NA                                </td></tr>\n",
       "\t<tr><td>715494628a50142ce8cb17191cfe6d0f3cae0934</td><td>542.3677                                </td></tr>\n",
       "\t<tr><td>e656d6bad65c93fb2880f1eba5037008c8e75774</td><td>479.1597                                </td></tr>\n",
       "</tbody>\n",
       "</table>\n"
      ],
      "text/latex": [
       "\\begin{tabular}{r|ll}\n",
       " NU\\_INSCRICAO & NU\\_NOTA\\_MT\\\\\n",
       "\\hline\n",
       "\t 73ff9fcc02f0a99919906c942c2e1a1042cdcf98 & 437.0905                                \\\\\n",
       "\t 71a95f9f1b91a82c65ad94abbdf9f54e6066f968 & 447.0095                                \\\\\n",
       "\t b38a03232f43b11c9d0788abaf060f7366053b6d & 570.0676                                \\\\\n",
       "\t 70b682d9a3636be23f6120fa9d6b164eb3c6002d &       NA                                \\\\\n",
       "\t 715494628a50142ce8cb17191cfe6d0f3cae0934 & 542.3677                                \\\\\n",
       "\t e656d6bad65c93fb2880f1eba5037008c8e75774 & 479.1597                                \\\\\n",
       "\\end{tabular}\n"
      ],
      "text/markdown": [
       "\n",
       "| NU_INSCRICAO | NU_NOTA_MT |\n",
       "|---|---|\n",
       "| 73ff9fcc02f0a99919906c942c2e1a1042cdcf98 | 437.0905                                 |\n",
       "| 71a95f9f1b91a82c65ad94abbdf9f54e6066f968 | 447.0095                                 |\n",
       "| b38a03232f43b11c9d0788abaf060f7366053b6d | 570.0676                                 |\n",
       "| 70b682d9a3636be23f6120fa9d6b164eb3c6002d |       NA                                 |\n",
       "| 715494628a50142ce8cb17191cfe6d0f3cae0934 | 542.3677                                 |\n",
       "| e656d6bad65c93fb2880f1eba5037008c8e75774 | 479.1597                                 |\n",
       "\n"
      ],
      "text/plain": [
       "  NU_INSCRICAO                             NU_NOTA_MT\n",
       "1 73ff9fcc02f0a99919906c942c2e1a1042cdcf98 437.0905  \n",
       "2 71a95f9f1b91a82c65ad94abbdf9f54e6066f968 447.0095  \n",
       "3 b38a03232f43b11c9d0788abaf060f7366053b6d 570.0676  \n",
       "4 70b682d9a3636be23f6120fa9d6b164eb3c6002d       NA  \n",
       "5 715494628a50142ce8cb17191cfe6d0f3cae0934 542.3677  \n",
       "6 e656d6bad65c93fb2880f1eba5037008c8e75774 479.1597  "
      ]
     },
     "metadata": {},
     "output_type": "display_data"
    }
   ],
   "source": [
    "head(tes)"
   ]
  }
 ],
 "metadata": {
  "kernelspec": {
   "display_name": "R",
   "language": "R",
   "name": "ir"
  },
  "language_info": {
   "codemirror_mode": "r",
   "file_extension": ".r",
   "mimetype": "text/x-r-source",
   "name": "R",
   "pygments_lexer": "r",
   "version": "3.6.1"
  },
  "toc": {
   "base_numbering": 1,
   "nav_menu": {},
   "number_sections": true,
   "sideBar": true,
   "skip_h1_title": false,
   "title_cell": "Table of Contents",
   "title_sidebar": "Contents",
   "toc_cell": false,
   "toc_position": {},
   "toc_section_display": true,
   "toc_window_display": false
  }
 },
 "nbformat": 4,
 "nbformat_minor": 4
}
